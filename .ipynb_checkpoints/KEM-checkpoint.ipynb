{
 "cells": [
  {
   "cell_type": "markdown",
   "metadata": {},
   "source": [
    "### KEM\n",
    "This is a simulation of an economic micro interations, in which each time step two actors, which are chosen by an interaction function, engage in a transaction that exchanges wealth between them according to a specific transaction function.\n",
    "\n",
    "This code has been modified from https://nbviewer.jupyter.org/url/norvig.com/ipython/Economics.ipynb"
   ]
  },
  {
   "cell_type": "code",
   "execution_count": 89,
   "metadata": {},
   "outputs": [],
   "source": [
    "import random\n",
    "%matplotlib inline\n",
    "import matplotlib.pyplot as plt\n",
    "import statistics\n",
    "import warnings\n",
    "import numpy as np\n",
    "warnings.filterwarnings(\"ignore\")"
   ]
  },
  {
   "cell_type": "code",
   "execution_count": 147,
   "metadata": {},
   "outputs": [],
   "source": [
    "#initial values (population size & mean of the income distribution)\n",
    "N  = 5 \n",
    "MU = 100. \n",
    "\n",
    "# Initial income distribution\n",
    "\n",
    "def normalize(numbers, mu):\n",
    "    \n",
    "    '''\n",
    "    Positive values, and scale them so they have mean mu.\n",
    "    \n",
    "    '''\n",
    "    \n",
    "    numbers = [max(0, n) for n in numbers]\n",
    "    \n",
    "    factor = len(numbers) * mu / sum(numbers)\n",
    "    \n",
    "    return [x * factor for x in numbers]\n",
    "\n",
    "def samples(distribution, *args, n = N, mu = MU):\n",
    "    '''\n",
    "    Sample from the distribution n times,\n",
    "    then normalize results.\n",
    "    \n",
    "    '''\n",
    "    \n",
    "    numbers = [distribution(*args) for _ in range(N)]\n",
    "    return normalize(numbers, mu)\n",
    "\n",
    "\n",
    "population = [np.random.uniform(0, 100) for actor in range(N)]\n",
    "lambda_ = np.random.lognormal(-1.5, 0.4, N)"
   ]
  },
  {
   "cell_type": "code",
   "execution_count": 148,
   "metadata": {},
   "outputs": [
    {
     "data": {
      "text/plain": [
       "[72.2189467389791,\n",
       " 89.2658338618702,\n",
       " 18.99114312851622,\n",
       " 68.58799671904023,\n",
       " 89.48776794222532]"
      ]
     },
     "execution_count": 148,
     "metadata": {},
     "output_type": "execute_result"
    }
   ],
   "source": [
    "population"
   ]
  },
  {
   "cell_type": "code",
   "execution_count": 149,
   "metadata": {},
   "outputs": [
    {
     "data": {
      "text/plain": [
       "array([0.2362834 , 0.22612018, 0.21846092, 0.22822704, 0.25674338])"
      ]
     },
     "execution_count": 149,
     "metadata": {},
     "output_type": "execute_result"
    }
   ],
   "source": [
    "lambda_"
   ]
  },
  {
   "cell_type": "code",
   "execution_count": 151,
   "metadata": {},
   "outputs": [
    {
     "name": "stdout",
     "output_type": "stream",
     "text": [
      "4\n",
      "0.25674338310352557\n"
     ]
    }
   ],
   "source": [
    "print((np.argmax(lambda_)))\n",
    "print(np.max(lambda_))"
   ]
  },
  {
   "cell_type": "code",
   "execution_count": 152,
   "metadata": {},
   "outputs": [],
   "source": [
    "def gini(p):\n",
    "    \n",
    "    \"Gini coefficient (equation from wikipedia)\"\n",
    "    \n",
    "    y = sorted(p)\n",
    "    n = len(p)\n",
    "    \n",
    "    numer = 2 * sum((i+1) * y[i] for i in range(n))\n",
    "    denom = n * sum(y)\n",
    "    \n",
    "    return (numer / denom) - (n + 1) / n\n"
   ]
  },
  {
   "cell_type": "code",
   "execution_count": 153,
   "metadata": {},
   "outputs": [],
   "source": [
    "def hist(population, label='Dist', **kwargs):\n",
    "    label = label + ': G=' + str(round(gini(population), 2))\n",
    "    \n",
    "    h = plt.hist(list(population), alpha = 0.4, bins = 30, label= label, **kwargs)\n",
    "    \n",
    "    plt.xlabel('Wealth')\n",
    "    plt.ylabel('Count')\n",
    "    plt.grid(True)\n",
    "    \n",
    "    plt.legend()"
   ]
  },
  {
   "cell_type": "code",
   "execution_count": 154,
   "metadata": {},
   "outputs": [
    {
     "data": {
      "image/png": "[encoded data removed]",
      "text/plain": [
       "<Figure size 432x288 with 1 Axes>"
      ]
     },
     "metadata": {},
     "output_type": "display_data"
    }
   ],
   "source": [
    "hist(population)"
   ]
  },
  {
   "cell_type": "code",
   "execution_count": 155,
   "metadata": {},
   "outputs": [],
   "source": [
    "# Type of Transactions\n",
    "\n",
    "def swd(A, B):\n",
    "    # this need to change after\n",
    "    eps = np.random.uniform()\n",
    "    \n",
    "    \n",
    "    return lambda_[A]*population[A] + eps*((1-lambda_[A]) * population[A] + (1 - lambda_[B])*population[B]), lambda_[B]*population[B] + (1-eps)*((1 - lambda_[A]) * population[A] + (1 - lambda_[B])*population[B]) \n",
    "    \n"
   ]
  },
  {
   "cell_type": "code",
   "execution_count": 156,
   "metadata": {},
   "outputs": [],
   "source": [
    "# Type of Interactions \n",
    "\n",
    "def anyone(N): \n",
    "    '''\n",
    "    Takes two actors randomly\n",
    "    \n",
    "    '''\n",
    "    return random.sample(range(N), 2)"
   ]
  },
  {
   "cell_type": "code",
   "execution_count": 181,
   "metadata": {},
   "outputs": [],
   "source": [
    "# Simulation\n",
    "\n",
    "def simulate(population, steps, transaction=swd, interaction=anyone):\n",
    "    '''\n",
    "    Simulate takes a certain initial population, and makes them interact.\n",
    "    \n",
    "    Inputs:\n",
    "        population. list. Initial income distribution\n",
    "        steps. int. Time steps to execute the simulation\n",
    "        transaction. function. function that describes the dynamic of the transaction.\n",
    "        interaction. function. function that describes the dynamic of the interaction.\n",
    "    \n",
    "    Outputs:\n",
    "        population after steps number of steps. \n",
    "    \n",
    "    '''\n",
    "    \n",
    "    population = population.copy()\n",
    "#     yield population\n",
    " \n",
    "    for t in range(steps):\n",
    "        i, j = interaction(len(population))\n",
    "        population[i], population[j] = transaction(i,j)\n",
    "        \n",
    "        yield population\n",
    "        "
   ]
  },
  {
   "cell_type": "code",
   "execution_count": 182,
   "metadata": {},
   "outputs": [],
   "source": [
    "def show(population, k=1, percentiles=(1, 10, 50, 90, 99), **kwargs):\n",
    "    \n",
    "    '''\n",
    "    Run a simulation for k*N steps, \n",
    "    printing statistics and displaying a plot and histogram.\n",
    "    \n",
    "    '''\n",
    "    \n",
    "    N = len(population)\n",
    "    start = list(population)\n",
    "    \n",
    "#     results = [(t, sorted(pop)) # Sort results so that percentiles work\n",
    "#                 for (t, pop) in enumerate(simulate(population, k * N, **kwargs))\n",
    "#                 if t % (N / 10) == 0]\n",
    "    \n",
    "    results = []\n",
    "    for (t, pop) in enumerate(simulate(population, k * N, **kwargs)):\n",
    "        if t % (N / 10) == 0:\n",
    "            results.append((t, pop))\n",
    "                           \n",
    "    print(results)\n",
    "    \n",
    "#     lists = [pop[0] for (t, pop) in results]\n",
    "#     print(lists)\n",
    "    \n",
    "    \n",
    "    times = [t for (t, pop) in results]\n",
    "\n",
    "    \n",
    "    \n",
    "    # Statistics\n",
    "    \n",
    "    print('   t    Gini stdev' + (' {:3d}%' * len(percentiles)).format(*percentiles))\n",
    "    \n",
    "    \n",
    "    fmt = '{:7,d} {:.2f} {:5.1f}' + ' {:4.0f}' * len(percentiles)\n",
    "    \n",
    "    \n",
    "    for (t, pop) in results:\n",
    "        if t % (4 * N) == 0:\n",
    "            data = [percent(pct, pop) for pct in percentiles]\n",
    "            print(fmt.format(t, gini(pop), statistics.stdev(pop), *data))\n",
    "            \n",
    "            \n",
    "#     #plot individual trajectory\n",
    "#     plt.hold(True)\n",
    "#     plt.xlabel('Time')\n",
    "#     plt.ylabel('Wealth')\n",
    "#     plt.grid(True)\n",
    "#     plt.plot(times, lists)\n",
    "\n",
    "#     plt.show()\n",
    "    \n",
    "    \n",
    "    \n",
    "    \n",
    "    \n",
    "    # Plot\n",
    "    \n",
    "    plt.hold(True)\n",
    "    plt.xlabel('Time')\n",
    "    plt.ylabel('Wealth')\n",
    "    plt.grid(True)\n",
    "    \n",
    "    for pct in percentiles:\n",
    "        line = [percent(pct, pop) for (t, pop) in results]\n",
    "        plt.plot(times, line)\n",
    "\n",
    "    plt.show()\n",
    "    \n",
    "    \n",
    "    # Histogram\n",
    "    \n",
    "    R = (min(pop+start), max(pop+start))\n",
    "    hist(start, 'Initial', range=R)\n",
    "    hist(pop, 'Final', range=R)\n",
    "                \n",
    "def percent(pct, items):\n",
    "    '''\n",
    "    The item that is pct percent through the sorted list of items.\n",
    "    \n",
    "    '''\n",
    "    return items[min(len(items)-1, len(items) * pct // 100)]"
   ]
  },
  {
   "cell_type": "code",
   "execution_count": 183,
   "metadata": {},
   "outputs": [
    {
     "name": "stdout",
     "output_type": "stream",
     "text": [
      "[(0, [29.241952425421516, 21.239887574217427, 15.249850569145291, 25.24067604713727, 93.22906050159625]), (1, [29.241952425421516, 21.239887574217427, 15.249850569145291, 25.24067604713727, 93.22906050159625]), (2, [29.241952425421516, 21.239887574217427, 15.249850569145291, 25.24067604713727, 93.22906050159625]), (3, [29.241952425421516, 21.239887574217427, 15.249850569145291, 25.24067604713727, 93.22906050159625]), (4, [29.241952425421516, 21.239887574217427, 15.249850569145291, 25.24067604713727, 93.22906050159625])]\n",
      "   t    Gini stdev   1%  10%  50%  90%  99%\n",
      "      0 0.36  31.9   29   29   15   93   93\n"
     ]
    },
    {
     "data": {
      "image/png": "[encoded data removed]",
      "text/plain": [
       "<Figure size 432x288 with 1 Axes>"
      ]
     },
     "metadata": {},
     "output_type": "display_data"
    },
    {
     "data": {
      "image/png": "[encoded data removed]",
      "text/plain": [
       "<Figure size 432x288 with 1 Axes>"
      ]
     },
     "metadata": {},
     "output_type": "display_data"
    }
   ],
   "source": [
    "show(population)"
   ]
  },
  {
   "cell_type": "code",
   "execution_count": 69,
   "metadata": {},
   "outputs": [],
   "source": [
    "def show(population, k=1, **kwargs):\n",
    "    \n",
    "    '''\n",
    "    Run a simulation for k*N steps, \n",
    "    printing statistics and displaying a plot and histogram.\n",
    "    \n",
    "    '''\n",
    "    \n",
    "    N = len(population)\n",
    "    results = [list(simulate(population, k*N, **kwargs))]\n",
    "    \n",
    "#     for (t, pop) in enumerate(simulate(population, k*N, **kwargs)): \n",
    "#         if t % (N/10) ==0:\n",
    "#             results.append((t, pop))\n",
    "    \n",
    "    \n",
    "#     times = [t for (t, pop) in results]\n",
    "    \n",
    "    print(results)\n",
    "    \n",
    "    \n",
    "#     plt.hold(True)\n",
    "#     plt.xlabel('Time')\n",
    "#     plt.ylabel('Wealth')\n",
    "#     plt.grid(True)\n",
    "    \n",
    "#     plt.plot()\n",
    "#     plt.show()\n"
   ]
  },
  {
   "cell_type": "code",
   "execution_count": 70,
   "metadata": {},
   "outputs": [
    {
     "name": "stdout",
     "output_type": "stream",
     "text": [
      "[[[73.82647493883739, 48.00267646858903, 4.45256058669142, 64.33629331218319, 99.6524917123641], [73.82647493883739, 48.00267646858903, 4.45256058669142, 64.33629331218319, 99.6524917123641], [73.82647493883739, 48.00267646858903, 4.45256058669142, 64.33629331218319, 99.6524917123641], [73.82647493883739, 48.00267646858903, 4.45256058669142, 64.33629331218319, 99.6524917123641], [73.82647493883739, 48.00267646858903, 4.45256058669142, 64.33629331218319, 99.6524917123641], [73.82647493883739, 48.00267646858903, 4.45256058669142, 64.33629331218319, 99.6524917123641]]]\n"
     ]
    }
   ],
   "source": [
    "show(population)"
   ]
  },
  {
   "cell_type": "code",
   "execution_count": null,
   "metadata": {},
   "outputs": [],
   "source": []
  },
  {
   "cell_type": "code",
   "execution_count": null,
   "metadata": {},
   "outputs": [],
   "source": []
  }
 ],
 "metadata": {
  "kernelspec": {
   "display_name": "Python 3",
   "language": "python",
   "name": "python3"
  },
  "language_info": {
   "codemirror_mode": {
    "name": "ipython",
    "version": 3
   },
   "file_extension": ".py",
   "mimetype": "text/x-python",
   "name": "python",
   "nbconvert_exporter": "python",
   "pygments_lexer": "ipython3",
   "version": "3.6.9"
  }
 },
 "nbformat": 4,
 "nbformat_minor": 2
}
