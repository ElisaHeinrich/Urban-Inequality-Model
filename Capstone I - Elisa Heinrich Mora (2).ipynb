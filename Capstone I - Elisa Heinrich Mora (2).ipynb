{
 "cells": [
  {
   "cell_type": "code",
   "execution_count": 163,
   "metadata": {},
   "outputs": [],
   "source": [
    "import numpy as np\n",
    "import statistics as stat\n",
    "import itertools\n",
    "from copy import deepcopy\n",
    "from scipy.stats  import multivariate_normal\n",
    "import matplotlib \n",
    "# matplotlib.use('TkAgg')\n",
    "from matplotlib import pyplot as plt\n",
    "\n",
    "import pandas as pd\n",
    "from IPython.core.debugger import set_trace\n",
    "import random\n",
    "import time\n",
    "import math\n",
    "import seaborn as sns; sns.set()\n",
    "import pylab\n",
    "from random import randrange\n",
    "import sys \n",
    "import scipy\n",
    "import plotly.graph_objects as go\n",
    "\n",
    "\n",
    "import warnings\n",
    "warnings.filterwarnings(\"ignore\")"
   ]
  },
  {
   "cell_type": "code",
   "execution_count": 164,
   "metadata": {},
   "outputs": [],
   "source": [
    "class base_model(object):\n",
    "\n",
    "    def __init__(self, grid_size= (256, 256), distr = \"SM\", n=2):\n",
    "        '''\n",
    "        Inputs:\n",
    "            - Grid size: size of the grid.\n",
    "            - Distribution: Int. Showing type of initial distribution of the grid\n",
    "                            Seg: Segregated\n",
    "                            SM: Semi-mixed (greater granulity)\n",
    "                            Mix: Completely mixed\n",
    " \n",
    "            - In case of SM distribution, n is an int value that represents\n",
    "                the size of the neighborhoods. Default: 2.\n",
    "                    \n",
    "            \n",
    "        '''\n",
    "        #initiating\n",
    "        self.grid_size = grid_size\n",
    "        self.distr = distr\n",
    "        self.n = n\n",
    "\n",
    "        #populate \n",
    "        self.populate(grid_size, distr, n)\n",
    "        \n",
    "        #counting steps\n",
    "        self.step = 0\n",
    "        \n",
    "        #for future work - quantifying the heterogeneity of the grid\n",
    "        self.mean_similarity_value = 0\n",
    "        self.mean_similarity_ratios = []\n",
    "        \n",
    "        #################################\n",
    "        \n",
    "        #make empty lists to keep up with data of each model at each step\n",
    "        self.states = []\n",
    "        self.rates = []\n",
    "        \n",
    "        self.avg_wealth_system=[]\n",
    "        self.min_wealth = []\n",
    "        self.max_wealth = []\n",
    "        self.median = []\n",
    "        \n",
    "        \n",
    "        #################################\n",
    "        \n",
    "        #for future reference to make empty lists to keep up with data of each neighborhood at each step\n",
    "        self.sub_states = []\n",
    "        self.sub_rates = []\n",
    "        \n",
    "        self.sub_avg_wealth_system=[]\n",
    "        self.sub_min_wealth = []\n",
    "        self.sub_max_wealth = []\n",
    "        self.sub_median = []\n",
    "        \n",
    "        \n",
    "        #################################\n",
    "        #Cate Heine's paper\n",
    "        self.boost = []\n",
    "        \n",
    "    def populate(self, grid_size, distr, n):\n",
    "        '''\n",
    "        Populate the grid.\n",
    "        Input: \n",
    "            - Grid Size (grid_size)\n",
    "            - Distribution (distr)\n",
    "            - Granularity size (n)\n",
    "        \n",
    "        We populate the grid depending on the type of geometry distribution selected.\n",
    "        (Well mixed city (chessboard-like), Semi-mixed(chessboard-like but with greater granularity (n)), \n",
    "        Segregated (completely segregated grid))\n",
    "        In this case we just have two possible wealth values 5 or 1, this allows us to simplify possible \n",
    "        outcomes of the model.\n",
    "        \n",
    "        Output:\n",
    "            Growth rate and Wealth grids with selected attributes.\n",
    "        \n",
    "        '''\n",
    "        #base grids\n",
    "        self.growth_rate = np.ones(self.grid_size)\n",
    "        self.wealth = np.ones(self.grid_size)*5\n",
    "\n",
    "        # Segregated grid case\n",
    "        if self.distr == \"Seg\":\n",
    "            self.wealth[:, :int(self.grid_size[1]/2)]= 1\n",
    "        \n",
    "        # Semi-mixed grid case, using n to consider the granularity\n",
    "        elif self.distr == \"SM\":\n",
    "            \n",
    "            for i in range(self.n, 2*self.n):\n",
    "                for j in range(self.n):\n",
    "                    self.wealth[j::2*self.n, i::2*self.n] =1\n",
    "\n",
    "            for i in range(self.n):\n",
    "                for j in range(self.n, 2*self.n):\n",
    "                    self.wealth[j::2*n, i::2*self.n] =1\n",
    "                    \n",
    "            \n",
    "        #well mixed grid\n",
    "        elif self.distr == \"Mix\" :\n",
    "            for i in range(self.grid_size[0]):\n",
    "                for j in range(self.grid_size[1]):\n",
    "                    if (i+j)%2:\n",
    "#                         self.wealth[i][j] = np.random.uniform(100, 500, 1)\n",
    "                        self.wealth[i][j] = 1\n",
    "    \n",
    "    \n",
    "        #growth-rate grid based on the wealth grid\n",
    "        C=10**-5\n",
    "        self.growth_rate = C*self.wealth \n",
    "    \n",
    "    \n",
    "\n",
    "\n",
    "    def display(self):\n",
    "        '''\n",
    "        Plot the state of the model.\n",
    "        \n",
    "        '''\n",
    "        plt.figure()\n",
    "        plt.imshow(self.wealth)\n",
    "        plt.colorbar()\n",
    "        plt.title('Step: ' + str(self.step))\n",
    "\n",
    "# animation of the evolution of the distribution\n",
    "#         pylab.clf()\n",
    "#         pylab.subplot(2, 2, 1)\n",
    "#         pylab.pcolor(self.wealth)\n",
    "#         plt.title('Wealth')\n",
    "#         plt.axis('off')\n",
    "#         plt.colorbar(label= 'Wealth')\n",
    "        \n",
    "#         pylab.subplot(2, 2, 2)\n",
    "#         pylab.pcolor(self.growth_rate)\n",
    "#         plt.title('Growth Rate')\n",
    "#         plt.axis('off')\n",
    "#         plt.colorbar(label='Growth rate')\n",
    "\n",
    "        \n",
    "#         pylab.subplot(2, 2, 3)\n",
    "#         s= sns.distplot(sim.wealth[~np.isnan(sim.wealth)], rug= True)\n",
    "#         plt.subplots_adjust( hspace=0.5, wspace=0.5)\n",
    "\n",
    "\n",
    "# #         s.set_xscale('log')\n",
    "# #         s.set_yscale('log')\n",
    "\n",
    "#         pylab.title('Wealth Distribution'+', Step = ' + str(self.step))\n",
    "#         plt.title('Wealth Distribution')\n",
    "#         plt.xlabel('Wealth')\n",
    "#         plt.ylabel('Distribution')\n",
    "#         plt.show()\n",
    "\n",
    "\n",
    "    def get_avg_val(self, matrix):\n",
    "        '''\n",
    "        Returns the average of state value. (float)\n",
    "        \n",
    "        '''\n",
    "        return np.nanmean(matrix)\n",
    "    \n",
    "    \n",
    "    def get_min_val(self, matrix):\n",
    "        '''\n",
    "        Return the minimum wealth value.\n",
    "        \n",
    "        '''\n",
    "        \n",
    "        return np.nanmin(matrix)\n",
    "    \n",
    "        \n",
    "    def get_max_val(self, matrix):\n",
    "        '''\n",
    "        Return the maximum wealth value.\n",
    "        \n",
    "        '''\n",
    "        \n",
    "        return np.nanmax(matrix)\n",
    "        \n",
    "  \n",
    "    def get_median(self, matrix):\n",
    "        '''\n",
    "        Return the median of the current matrix\n",
    "        \n",
    "        '''\n",
    "        \n",
    "        return np.nanmedian(matrix)\n",
    "    \n",
    "    \n",
    "    def get_std(self, matrix):\n",
    "        '''\n",
    "        Return the standard deviation of the current matrix\n",
    "        '''\n",
    "        \n",
    "        return np.nanstd(matrix)\n",
    "    \n",
    "    def entropy(self, sub_wealth, grid_size, sim_range=0.2):\n",
    "        '''\n",
    "        [Corrently I am not using this function, since I am setting up a determined initial distribution]\n",
    "        \n",
    "        Output a value representing the heterogeneity of the grid (or part of a grid) in a certain step.\n",
    "        \n",
    "        Input:\n",
    "            - Wealth Grid (or sub-part of the wealt grid)\n",
    "            - Grid size\n",
    "            - Similarity range (how much percentage of similarity should have in order to consider \n",
    "                                the cells from the same class)\n",
    "        \n",
    "        '''\n",
    "\n",
    "        similarity_ratios = []    \n",
    "        \n",
    "        #in this case, I was considering just one subpart of the whole grid, upper-left corner\n",
    "        for x in range(int((self.grid_size[0])/2)):\n",
    "            for y in range(int((self.grid_size[1])/2)):\n",
    "                #analyze each cell of the Grid\n",
    "                similar = 0\n",
    "                different = 0\n",
    "                \n",
    "                #considering a Moore Neighborhood\n",
    "                combinations = itertools.product([-1, 0, 1], [-1, 0, 1])\n",
    "                \n",
    "                #I should change this part in the future, since consider a non-periodic boundary condition\n",
    "                for i, j in combinations:\n",
    "                    x_coordinate = (x + i) % len(sub_wealth)\n",
    "                    y_coordinate = (y + j) % len(sub_wealth[0])\n",
    "\n",
    "                    #considering the value in sim_range, we consider how different are expected the value of wealth of the \n",
    "                    #neighbors to consider similar or different\n",
    "                    if self.sub_wealth[x][y]* - sim_range + self.sub_wealth[x][y] <= self.sub_wealth[x_coordinate][y_coordinate]<= self.sub_wealth[x][y] + self.sub_wealth[x][y] * sim_range:\n",
    "                        similar +=1\n",
    "                    else:\n",
    "                        different +=1\n",
    "                #once each cell has a value, then we can consider a whole similarity value for the grid\n",
    "                if (similar + different) == 0:\n",
    "                    similarity_ratios.append(0)\n",
    "                \n",
    "                else:\n",
    "                    self.mean_similarity_value += (similar)/(similar+different)\n",
    "                    similarity_ratios.append((similar)/(similar+different))\n",
    "\n",
    "        return(self.mean_similarity_ratios.append(np.nanmean(similarity_ratios)))\n",
    "\n",
    "        \n",
    "        \n",
    "    def update_grid(self, corr = True):\n",
    "        '''\n",
    "        Updating the Grid at each step. \n",
    "        Input: \n",
    "            - corr: Boolean. Consider whether or not we are considering the averaging effect of the neighborhood.\n",
    "        \n",
    "        We are considering cut-off boundary conditions.\n",
    "        \n",
    "        '''\n",
    "        # we will consider the average wealth of the neighborhood of each cell.\n",
    "        \n",
    "        # create an average wealth matrix with the average of the negihborhood of each cell\n",
    "        avg= np.ones(self.grid_size)\n",
    "        \n",
    "        for x in range(self.grid_size[0]):\n",
    "            for y in range(self.grid_size[1]):\n",
    "                \n",
    "                #having cut-off boundary conditions\n",
    "                if x == 0:\n",
    "                    a =[0, 1]\n",
    "                    xn = 2\n",
    "                    \n",
    "                elif x == (self.grid_size[0]-1):\n",
    "                    a = [-1, 0]\n",
    "                    xn = 2\n",
    "                    \n",
    "                elif x !=0 and x !=(self.grid_size[0]-1):\n",
    "                    a=[-1, 0, 1]\n",
    "                    xn = 3\n",
    "\n",
    "                if y == 0:\n",
    "                    b = [0, 1]\n",
    "                    yn = 2\n",
    "                    \n",
    "                elif y == (self.grid_size[1]-1):\n",
    "                    b = [-1, 0]\n",
    "                    yn = 2\n",
    "\n",
    "                elif y !=0 and y != (self.grid_size[1]-1):\n",
    "                    b= [-1, 0, 1]\n",
    "                    yn = 3\n",
    "\n",
    "                combinations = itertools.product(a, b)\n",
    "                \n",
    "                value=0\n",
    "                for xi, yi in combinations:\n",
    "                    x_coordinate = (x + xi) % len(self.wealth[0])\n",
    "                    y_coordinate = (y + yi) % len(self.wealth[1])\n",
    "\n",
    "                    value += self.wealth[x_coordinate][y_coordinate]\n",
    "                avg[x][y]=value/(xn*yn)\n",
    "                \n",
    "        \n",
    "        new_state = self.wealth + self.wealth* self.growth_rate\n",
    "        C= 0.0001\n",
    "        \n",
    "        if corr:\n",
    "            #If considering correlation then we are considering the average matrix\n",
    "            new_growth= C*np.log(self.wealth + avg)\n",
    "            \n",
    "        else: \n",
    "            new_growth = C*np.log(self.wealth)\n",
    "       \n",
    "        self.wealth = new_state \n",
    "        self.growth_rate = new_growth\n",
    "        \n",
    "        self.sub_wealth = self.wealth[0:int(self.grid_size[1]/2),0:int(self.grid_size[1]/2)]\n",
    "        self.sub_growth_rate = self.growth_rate[0:int(self.grid_size[1]/2),0:int(self.grid_size[1]/2)]\n",
    "        \n",
    "        \n",
    "        ################################################################\n",
    "        #appending values for each step\n",
    "        \n",
    "        self.states.append(self.wealth)\n",
    "        self.rates.append(self.growth_rate)\n",
    "        \n",
    "        self.avg_wealth_system.append(self.get_avg_val(self.wealth))\n",
    "        self.min_wealth.append(self.get_min_val(self.wealth))\n",
    "        self.max_wealth.append(self.get_max_val(self.wealth))\n",
    "        self.median.append(self.get_median(self.wealth))\n",
    "        \n",
    "        ###############################################################\n",
    "        #considering sub-structures\n",
    "        \n",
    "        self.entropy(self.sub_wealth, self.grid_size)\n",
    "        \n",
    "        self.sub_states.append(self.sub_wealth)\n",
    "        self.sub_rates.append(self.sub_growth_rate)\n",
    "        \n",
    "        self.sub_avg_wealth_system.append(self.get_avg_val(self.sub_wealth))\n",
    "        self.sub_min_wealth.append(self.get_min_val(self.sub_wealth))\n",
    "        self.sub_max_wealth.append(self.get_max_val(self.sub_wealth))\n",
    "        self.sub_median.append(self.get_median(self.sub_wealth))\n",
    "        \n",
    "        ###############################################################\n",
    "# when using boost parameter\n",
    "#         ratio_xX =(int(sim.grid_size[0]/2)*int(sim.grid_size[1]/2))/(int(sim.grid_size[0])*int(sim.grid_size[1]))\n",
    "#         Y= self.avg_wealth_system[-1]\n",
    "#         y= self.sub_avg_wealth_system[-1]\n",
    "#         b= y/(Y*ratio_xX)\n",
    "#         self.boost.append(b)\n",
    "        \n",
    "        self.step += 1\n",
    "        \n",
    "## for animation        \n",
    "# sim = base_model()\n",
    "# import pycxsimulator\n",
    "# gui = pycxsimulator.GUI()\n",
    "# gui.start(func=[sim.initialize, sim.observe, sim.update_grid])"
   ]
  },
  {
   "cell_type": "markdown",
   "metadata": {},
   "source": [
    "### Distribution - Grid & Neighborhood Size"
   ]
  },
  {
   "cell_type": "code",
   "execution_count": 166,
   "metadata": {},
   "outputs": [
    {
     "data": {
      "image/png": "[encoded data removed]",
      "text/plain": [
       "<Figure size 432x288 with 1 Axes>"
      ]
     },
     "metadata": {},
     "output_type": "display_data"
    }
   ],
   "source": [
    "'''\n",
    "\n",
    "Distribution for Grid size 16x16. In the different initial Conditions:\n",
    "    - Well Mixed\n",
    "    - Semi-Mixed with neighborhood sizes as 2, 4, and 8\n",
    "    - Segregated\n",
    "\n",
    "'''\n",
    "\n",
    "peak_ratios_16 = []\n",
    "\n",
    "\n",
    "sim_1_16 = base_model(grid_size= (16, 16), distr = \"Mix\")\n",
    "for _ in range(1000):\n",
    "    sim_1_16.update_grid()\n",
    "    \n",
    "sim_1_16_low_dist = sim_1_16.wealth[sim_1_16.wealth< np.median(sim_1_16.wealth)]\n",
    "sim_1_16_high_dist = sim_1_16.wealth[sim_1_16.wealth> np.median(sim_1_16.wealth)]\n",
    "\n",
    "sim_1_16_low_peak = np.mean(sim_1_16_low_dist)\n",
    "sim_1_16_high_peak = np.mean(sim_1_16_high_dist)\n",
    "\n",
    "sim_1_16_ = sim_1_16.wealth[~np.isnan(sim_1_16.wealth)]\n",
    "\n",
    "peak_ratios_16.append(sim_1_16_low_peak/sim_1_16_high_peak)\n",
    "\n",
    "     \n",
    "sim_2_16 = base_model(grid_size= (16, 16), distr = \"SM\", n=2)\n",
    "for _ in range(1000):\n",
    "    sim_2_16.update_grid()\n",
    "    \n",
    "sim_2_16_low_dist = sim_2_16.wealth[sim_2_16.wealth< np.median(sim_2_16.wealth)]\n",
    "sim_2_16_high_dist = sim_2_16.wealth[sim_2_16.wealth> np.median(sim_2_16.wealth)]\n",
    "\n",
    "sim_2_16_low_peak = np.mean(sim_2_16_low_dist)\n",
    "sim_2_16_high_peak = np.mean(sim_2_16_high_dist)\n",
    "\n",
    "sim_2_16_ = sim_2_16.wealth[~np.isnan(sim_2_16.wealth)]\n",
    "\n",
    "peak_ratios_16.append(sim_2_16_low_peak/sim_2_16_high_peak)\n",
    "    \n",
    "sim_3_16 = base_model(grid_size= (16, 16), distr = \"SM\", n=4)\n",
    "for _ in range(1000):\n",
    "    sim_3_16.update_grid()\n",
    "    \n",
    "sim_3_16_low_dist = sim_3_16.wealth[sim_3_16.wealth< np.median(sim_3_16.wealth)]\n",
    "sim_3_16_high_dist = sim_3_16.wealth[sim_3_16.wealth> np.median(sim_3_16.wealth)]\n",
    "\n",
    "sim_3_16_low_peak = np.mean(sim_3_16_low_dist)\n",
    "sim_3_16_high_peak = np.mean(sim_3_16_high_dist)\n",
    "\n",
    "peak_ratios_16.append(sim_3_16_low_peak/sim_3_16_high_peak)\n",
    "    \n",
    "sim_3_16_ = sim_3_16.wealth[~np.isnan(sim_3_16.wealth)]\n",
    "\n",
    "sim_4_16 = base_model(grid_size= (16, 16), distr = \"SM\", n=8)\n",
    "for _ in range(1000):\n",
    "    sim_4_16.update_grid()\n",
    "    \n",
    "sim_4_16_low_dist = sim_4_16.wealth[sim_4_16.wealth< np.median(sim_4_16.wealth)]\n",
    "sim_4_16_high_dist = sim_4_16.wealth[sim_4_16.wealth> np.median(sim_4_16.wealth)]\n",
    "\n",
    "sim_4_16_low_peak = np.mean(sim_4_16_low_dist)\n",
    "sim_4_16_high_peak = np.mean(sim_4_16_high_dist)\n",
    "\n",
    "sim_4_16_ = sim_4_16.wealth[~np.isnan(sim_4_16.wealth)]\n",
    "\n",
    "peak_ratios_16.append(sim_4_16_low_peak/sim_4_16_high_peak)\n",
    "    \n",
    "    \n",
    "sim_5_16 = base_model(grid_size= (16, 16), distr = \"Seg\")\n",
    "for _ in range(1000):\n",
    "    sim_5_16.update_grid()\n",
    "    \n",
    "sim_5_16_low_dist = sim_5_16.wealth[sim_5_16.wealth< np.median(sim_5_16.wealth)]\n",
    "sim_5_16_high_dist = sim_5_16.wealth[sim_5_16.wealth> np.median(sim_5_16.wealth)]\n",
    "\n",
    "sim_5_16_low_peak = np.mean(sim_5_16_low_dist)\n",
    "sim_5_16_high_peak = np.mean(sim_5_16_high_dist)\n",
    "\n",
    "sim_5_16_ = sim_5_16.wealth[~np.isnan(sim_5_16.wealth)]\n",
    "\n",
    "peak_ratios_16.append(sim_5_16_low_peak/sim_5_16_high_peak)\n",
    "    \n",
    "    \n",
    "s= sns.distplot(sim_1_16_ , hist=True, label='Mix',\n",
    "             hist_kws={'weights': np.full(len(sim_1_16_), 1/len(sim_1_16_))})\n",
    "s= sns.distplot(sim_2_16_ , hist=True, label='SM-2',\n",
    "             hist_kws={'weights': np.full(len(sim_2_16_), 1/len(sim_2_16_))})\n",
    "s= sns.distplot(sim_3_16_ , hist=True, label='SM-4',\n",
    "             hist_kws={'weights': np.full(len(sim_3_16_), 1/len(sim_3_16_))})\n",
    "s= sns.distplot(sim_4_16_ , hist=True, label='SM-8',\n",
    "             hist_kws={'weights': np.full(len(sim_4_16_), 1/len(sim_4_16_))})\n",
    "s= sns.distplot(sim_5_16_ , hist=True, label='Seg',\n",
    "             hist_kws={'weights': np.full(len(sim_5_16_), 1/len(sim_5_16_))})\n",
    "\n",
    "\n",
    "plt.xlabel('Wealth')\n",
    "plt.ylabel('Density Distribution')\n",
    "plt.legend()\n",
    "plt.show()"
   ]
  },
  {
   "cell_type": "code",
   "execution_count": 167,
   "metadata": {},
   "outputs": [
    {
     "data": {
      "image/png": "[encoded data removed]",
      "text/plain": [
       "<Figure size 432x288 with 1 Axes>"
      ]
     },
     "metadata": {},
     "output_type": "display_data"
    }
   ],
   "source": [
    "'''\n",
    "\n",
    "Distribution for Grid size 64x64. In the different initial Conditions:\n",
    "    - Well Mixed\n",
    "    - Semi-Mixed with neighborhood sizes as 2, 4, 8, 16, 32, 64, 128, 256 \n",
    "    - Segregated\n",
    "\n",
    "'''\n",
    "\n",
    "peak_ratios_64 = []\n",
    "\n",
    "\n",
    "sim_1_64 = base_model(grid_size= (64, 64), distr = \"Mix\")\n",
    "for _ in range(1000):\n",
    "    sim_1_64.update_grid()\n",
    "    \n",
    "sim_1_64_low_dist = sim_1_64.wealth[sim_1_64.wealth< np.median(sim_1_64.wealth)]\n",
    "sim_1_64_high_dist = sim_1_64.wealth[sim_1_64.wealth> np.median(sim_1_64.wealth)]\n",
    "\n",
    "sim_1_64_low_peak = np.mean(sim_1_64_low_dist)\n",
    "sim_1_64_high_peak = np.mean(sim_1_64_high_dist)\n",
    "\n",
    "sim_1_64_ = sim_1_64.wealth[~np.isnan(sim_1_64.wealth)]\n",
    "\n",
    "peak_ratios_64.append(sim_1_64_low_peak/sim_1_64_high_peak)\n",
    "\n",
    "     \n",
    "sim_2_64 = base_model(grid_size= (64, 64), distr = \"SM\", n=2)\n",
    "for _ in range(1000):\n",
    "    sim_2_64.update_grid()\n",
    "    \n",
    "sim_2_64_low_dist = sim_2_64.wealth[sim_2_64.wealth< np.median(sim_2_64.wealth)]\n",
    "sim_2_64_high_dist = sim_2_64.wealth[sim_2_64.wealth> np.median(sim_2_64.wealth)]\n",
    "\n",
    "sim_2_64_low_peak = np.mean(sim_2_64_low_dist)\n",
    "sim_2_64_high_peak = np.mean(sim_2_64_high_dist)\n",
    "\n",
    "sim_2_64_ = sim_2_64.wealth[~np.isnan(sim_2_64.wealth)]\n",
    "\n",
    "peak_ratios_64.append(sim_2_64_low_peak/sim_2_64_high_peak)\n",
    "    \n",
    "    \n",
    "sim_3_64 = base_model(grid_size= (64, 64), distr = \"SM\", n=4)\n",
    "for _ in range(1000):\n",
    "    sim_3_64.update_grid()\n",
    "    \n",
    "sim_3_64_low_dist = sim_3_64.wealth[sim_3_64.wealth< np.median(sim_3_64.wealth)]\n",
    "sim_3_64_high_dist = sim_3_64.wealth[sim_3_64.wealth> np.median(sim_3_64.wealth)]\n",
    "\n",
    "sim_3_64_low_peak = np.mean(sim_3_64_low_dist)\n",
    "sim_3_64_high_peak = np.mean(sim_3_64_high_dist)\n",
    "\n",
    "peak_ratios_64.append(sim_3_64_low_peak/sim_3_64_high_peak)\n",
    "    \n",
    "sim_3_64_ = sim_3_64.wealth[~np.isnan(sim_3_64.wealth)]\n",
    "\n",
    "\n",
    "sim_4_64 = base_model(grid_size= (64, 64), distr = \"SM\", n=8)\n",
    "for _ in range(1000):\n",
    "    sim_4_64.update_grid()\n",
    "    \n",
    "sim_4_64_low_dist = sim_4_64.wealth[sim_4_64.wealth< np.median(sim_4_64.wealth)]\n",
    "sim_4_64_high_dist = sim_4_64.wealth[sim_4_64.wealth> np.median(sim_4_64.wealth)]\n",
    "\n",
    "sim_4_64_low_peak = np.mean(sim_4_64_low_dist)\n",
    "sim_4_64_high_peak = np.mean(sim_4_64_high_dist)\n",
    "\n",
    "sim_4_64_ = sim_4_64.wealth[~np.isnan(sim_4_64.wealth)]\n",
    "\n",
    "peak_ratios_64.append(sim_4_64_low_peak/sim_4_64_high_peak)\n",
    "\n",
    "\n",
    "sim_5_64 = base_model(grid_size= (64, 64), distr = \"SM\", n=16)\n",
    "for _ in range(1000):\n",
    "    sim_5_64.update_grid()\n",
    "    \n",
    "sim_5_64_low_dist = sim_5_64.wealth[sim_5_64.wealth< np.median(sim_5_64.wealth)]\n",
    "sim_5_64_high_dist = sim_5_64.wealth[sim_5_64.wealth> np.median(sim_5_64.wealth)]\n",
    "\n",
    "sim_5_64_low_peak = np.mean(sim_5_64_low_dist)\n",
    "sim_5_64_high_peak = np.mean(sim_5_64_high_dist)\n",
    "\n",
    "sim_5_64_ = sim_5_64.wealth[~np.isnan(sim_5_64.wealth)]\n",
    "\n",
    "peak_ratios_64.append(sim_5_64_low_peak/sim_5_64_high_peak)\n",
    "\n",
    "\n",
    "sim_6_64 = base_model(grid_size= (64, 64), distr = \"SM\", n=32)\n",
    "for _ in range(1000):\n",
    "    sim_6_64.update_grid()\n",
    "    \n",
    "sim_6_64_low_dist = sim_6_64.wealth[sim_6_64.wealth< np.median(sim_6_64.wealth)]\n",
    "sim_6_64_high_dist = sim_6_64.wealth[sim_6_64.wealth> np.median(sim_6_64.wealth)]\n",
    "\n",
    "sim_6_64_low_peak = np.mean(sim_6_64_low_dist)\n",
    "sim_6_64_high_peak = np.mean(sim_6_64_high_dist)\n",
    "\n",
    "sim_6_64_ = sim_6_64.wealth[~np.isnan(sim_6_64.wealth)]\n",
    "\n",
    "peak_ratios_64.append(sim_6_64_low_peak/sim_6_64_high_peak)\n",
    "\n",
    "    \n",
    "sim_9_64 = base_model(grid_size= (64, 64), distr = \"Seg\")\n",
    "for _ in range(1000):\n",
    "    sim_9_64.update_grid()\n",
    "    \n",
    "sim_9_64_low_dist = sim_9_64.wealth[sim_9_64.wealth< np.median(sim_9_64.wealth)]\n",
    "sim_9_64_high_dist = sim_9_64.wealth[sim_9_64.wealth> np.median(sim_9_64.wealth)]\n",
    "\n",
    "sim_9_64_low_peak = np.mean(sim_9_64_low_dist)\n",
    "sim_9_64_high_peak = np.mean(sim_9_64_high_dist)\n",
    "\n",
    "sim_9_64_ = sim_9_64.wealth[~np.isnan(sim_9_64.wealth)]\n",
    "\n",
    "peak_ratios_64.append(sim_9_64_low_peak/sim_9_64_high_peak)\n",
    "    \n",
    "    \n",
    "s= sns.distplot(sim_1_64_ , hist=True, label='Mix',\n",
    "             hist_kws={'weights': np.full(len(sim_1_64_), 1/len(sim_1_64_))})\n",
    "s= sns.distplot(sim_2_64_ , hist=True, label='SM-2',\n",
    "             hist_kws={'weights': np.full(len(sim_2_64_), 1/len(sim_2_64_))})\n",
    "s= sns.distplot(sim_3_64_ , hist=True, label='SM-4',\n",
    "             hist_kws={'weights': np.full(len(sim_3_64_), 1/len(sim_3_64_))})\n",
    "s= sns.distplot(sim_4_64_ , hist=True, label='SM-8',\n",
    "             hist_kws={'weights': np.full(len(sim_4_64_), 1/len(sim_4_64_))})\n",
    "s= sns.distplot(sim_5_64_ , hist=True, label='SM-16',\n",
    "             hist_kws={'weights': np.full(len(sim_5_64_), 1/len(sim_5_64_))})\n",
    "s= sns.distplot(sim_6_64_ , hist=True, label='SM-32',\n",
    "             hist_kws={'weights': np.full(len(sim_6_64_), 1/len(sim_6_64_))})\n",
    "s= sns.distplot(sim_9_64_ , hist=True, label='Seg',\n",
    "             hist_kws={'weights': np.full(len(sim_9_64_), 1/len(sim_9_64_))})\n",
    "\n",
    "plt.xlabel('Wealth')\n",
    "plt.ylabel('Density Distribution')\n",
    "plt.legend()\n",
    "plt.show()"
   ]
  },
  {
   "cell_type": "code",
   "execution_count": 168,
   "metadata": {},
   "outputs": [
    {
     "data": {
      "image/png": "[encoded data removed]",
      "text/plain": [
       "<Figure size 432x288 with 1 Axes>"
      ]
     },
     "metadata": {},
     "output_type": "display_data"
    }
   ],
   "source": [
    "'''\n",
    "\n",
    "Distribution for Grid size 256x256. In the different initial Conditions:\n",
    "    - Well Mixed\n",
    "    - Semi-Mixed with neighborhood sizes as 2, 4, 8, 16, 32, 64, 128, 256 \n",
    "    - Segregated\n",
    "\n",
    "'''\n",
    "\n",
    "peak_ratios_256 = []\n",
    "\n",
    "\n",
    "sim_1_256 = base_model(distr = \"Mix\")\n",
    "for _ in range(1000):\n",
    "    sim_1_256.update_grid()\n",
    "    \n",
    "sim_1_256_low_dist = sim_1_256.wealth[sim_1_256.wealth< np.median(sim_1_256.wealth)]\n",
    "sim_1_256_high_dist = sim_1_256.wealth[sim_1_256.wealth> np.median(sim_1_256.wealth)]\n",
    "\n",
    "sim_1_256_low_peak = np.mean(sim_1_256_low_dist)\n",
    "sim_1_256_high_peak = np.mean(sim_1_256_high_dist)\n",
    "\n",
    "sim_1_256_ = sim_1_256.wealth[~np.isnan(sim_1_256.wealth)]\n",
    "\n",
    "peak_ratios_256.append(sim_1_256_low_peak/sim_1_256_high_peak)\n",
    "\n",
    "     \n",
    "sim_2_256 = base_model(distr = \"SM\", n=2)\n",
    "for _ in range(1000):\n",
    "    sim_2_256.update_grid()\n",
    "    \n",
    "sim_2_256_low_dist = sim_2_256.wealth[sim_2_256.wealth< np.median(sim_2_256.wealth)]\n",
    "sim_2_256_high_dist = sim_2_256.wealth[sim_2_256.wealth> np.median(sim_2_256.wealth)]\n",
    "\n",
    "sim_2_256_low_peak = np.mean(sim_2_256_low_dist)\n",
    "sim_2_256_high_peak = np.mean(sim_2_256_high_dist)\n",
    "\n",
    "sim_2_256_ = sim_2_256.wealth[~np.isnan(sim_2_256.wealth)]\n",
    "\n",
    "peak_ratios_256.append(sim_2_256_low_peak/sim_2_256_high_peak)\n",
    "    \n",
    "    \n",
    "sim_3_256 = base_model(distr = \"SM\", n=4)\n",
    "for _ in range(1000):\n",
    "    sim_3_256.update_grid()\n",
    "    \n",
    "sim_3_256_low_dist = sim_3_256.wealth[sim_3_256.wealth< np.median(sim_3_256.wealth)]\n",
    "sim_3_256_high_dist = sim_3_256.wealth[sim_3_256.wealth> np.median(sim_3_256.wealth)]\n",
    "\n",
    "sim_3_256_low_peak = np.mean(sim_3_256_low_dist)\n",
    "sim_3_256_high_peak = np.mean(sim_3_256_high_dist)\n",
    "\n",
    "peak_ratios_256.append(sim_3_256_low_peak/sim_3_256_high_peak)\n",
    "    \n",
    "sim_3_256_ = sim_3_256.wealth[~np.isnan(sim_3_256.wealth)]\n",
    "\n",
    "\n",
    "sim_4_256 = base_model(distr = \"SM\", n=8)\n",
    "for _ in range(1000):\n",
    "    sim_4_256.update_grid()\n",
    "    \n",
    "sim_4_256_low_dist = sim_4_256.wealth[sim_4_256.wealth< np.median(sim_4_256.wealth)]\n",
    "sim_4_256_high_dist = sim_4_256.wealth[sim_4_256.wealth> np.median(sim_4_256.wealth)]\n",
    "\n",
    "sim_4_256_low_peak = np.mean(sim_4_256_low_dist)\n",
    "sim_4_256_high_peak = np.mean(sim_4_256_high_dist)\n",
    "\n",
    "sim_4_256_ = sim_4_256.wealth[~np.isnan(sim_4_256.wealth)]\n",
    "\n",
    "peak_ratios_256.append(sim_4_256_low_peak/sim_4_256_high_peak)\n",
    "\n",
    "\n",
    "sim_5_256 = base_model(distr = \"SM\", n=16)\n",
    "for _ in range(1000):\n",
    "    sim_5_256.update_grid()\n",
    "    \n",
    "sim_5_256_low_dist = sim_5_256.wealth[sim_5_256.wealth< np.median(sim_5_256.wealth)]\n",
    "sim_5_256_high_dist = sim_5_256.wealth[sim_5_256.wealth> np.median(sim_5_256.wealth)]\n",
    "\n",
    "sim_5_256_low_peak = np.mean(sim_5_256_low_dist)\n",
    "sim_5_256_high_peak = np.mean(sim_5_256_high_dist)\n",
    "\n",
    "sim_5_256_ = sim_5_256.wealth[~np.isnan(sim_5_256.wealth)]\n",
    "\n",
    "peak_ratios_256.append(sim_5_256_low_peak/sim_5_256_high_peak)\n",
    "\n",
    "\n",
    "sim_6_256 = base_model(distr = \"SM\", n=32)\n",
    "for _ in range(1000):\n",
    "    sim_6_256.update_grid()\n",
    "    \n",
    "sim_6_256_low_dist = sim_6_256.wealth[sim_6_256.wealth< np.median(sim_6_256.wealth)]\n",
    "sim_6_256_high_dist = sim_6_256.wealth[sim_6_256.wealth> np.median(sim_6_256.wealth)]\n",
    "\n",
    "sim_6_256_low_peak = np.mean(sim_6_256_low_dist)\n",
    "sim_6_256_high_peak = np.mean(sim_6_256_high_dist)\n",
    "\n",
    "sim_6_256_ = sim_6_256.wealth[~np.isnan(sim_6_256.wealth)]\n",
    "\n",
    "peak_ratios_256.append(sim_6_256_low_peak/sim_6_256_high_peak)\n",
    "\n",
    "\n",
    "sim_7_256 = base_model(distr = \"SM\", n=64)\n",
    "for _ in range(1000):\n",
    "    sim_7_256.update_grid()\n",
    "    \n",
    "sim_7_256_low_dist = sim_7_256.wealth[sim_7_256.wealth< np.median(sim_7_256.wealth)]\n",
    "sim_7_256_high_dist = sim_7_256.wealth[sim_7_256.wealth> np.median(sim_7_256.wealth)]\n",
    "\n",
    "sim_7_256_low_peak = np.mean(sim_7_256_low_dist)\n",
    "sim_7_256_high_peak = np.mean(sim_7_256_high_dist)\n",
    "\n",
    "sim_7_256_ = sim_7_256.wealth[~np.isnan(sim_7_256.wealth)]\n",
    "\n",
    "peak_ratios_256.append(sim_7_256_low_peak/sim_7_256_high_peak)\n",
    "\n",
    "\n",
    "sim_8_256 = base_model(distr = \"SM\", n=128)\n",
    "for _ in range(1000):\n",
    "    sim_8_256.update_grid()\n",
    "    \n",
    "sim_8_256_low_dist = sim_8_256.wealth[sim_8_256.wealth< np.median(sim_8_256.wealth)]\n",
    "sim_8_256_high_dist = sim_8_256.wealth[sim_8_256.wealth> np.median(sim_8_256.wealth)]\n",
    "\n",
    "sim_8_256_low_peak = np.mean(sim_8_256_low_dist)\n",
    "sim_8_256_high_peak = np.mean(sim_8_256_high_dist)\n",
    "\n",
    "sim_8_256_ = sim_8_256.wealth[~np.isnan(sim_8_256.wealth)]\n",
    "\n",
    "peak_ratios_256.append(sim_8_256_low_peak/sim_8_256_high_peak)\n",
    "\n",
    "    \n",
    "sim_9_256 = base_model(distr = \"Seg\")\n",
    "for _ in range(1000):\n",
    "    sim_9_256.update_grid()\n",
    "    \n",
    "sim_9_256_low_dist = sim_9_256.wealth[sim_9_256.wealth< np.median(sim_9_256.wealth)]\n",
    "sim_9_256_high_dist = sim_9_256.wealth[sim_9_256.wealth> np.median(sim_9_256.wealth)]\n",
    "\n",
    "sim_9_256_low_peak = np.mean(sim_9_256_low_dist)\n",
    "sim_9_256_high_peak = np.mean(sim_9_256_high_dist)\n",
    "\n",
    "sim_9_256_ = sim_9_256.wealth[~np.isnan(sim_9_256.wealth)]\n",
    "\n",
    "peak_ratios_256.append(sim_9_256_low_peak/sim_9_256_high_peak)\n",
    "    \n",
    "    \n",
    "s= sns.distplot(sim_1_256_ , hist=True, label='Mix',\n",
    "             hist_kws={'weights': np.full(len(sim_1_256_), 1/len(sim_1_256_))})\n",
    "s= sns.distplot(sim_2_256_ , hist=True, label='SM-2',\n",
    "             hist_kws={'weights': np.full(len(sim_2_256_), 1/len(sim_2_256_))})\n",
    "s= sns.distplot(sim_3_256_ , hist=True, label='SM-4',\n",
    "             hist_kws={'weights': np.full(len(sim_3_256_), 1/len(sim_3_256_))})\n",
    "s= sns.distplot(sim_4_256_ , hist=True, label='SM-8',\n",
    "             hist_kws={'weights': np.full(len(sim_4_256_), 1/len(sim_4_256_))})\n",
    "s= sns.distplot(sim_5_256_ , hist=True, label='SM-16',\n",
    "             hist_kws={'weights': np.full(len(sim_5_256_), 1/len(sim_5_256_))})\n",
    "s= sns.distplot(sim_6_256_ , hist=True, label='SM-32',\n",
    "             hist_kws={'weights': np.full(len(sim_6_256_), 1/len(sim_6_256_))})\n",
    "s= sns.distplot(sim_7_256_ , hist=True, label='SM-64',\n",
    "             hist_kws={'weights': np.full(len(sim_7_256_), 1/len(sim_7_256_))})\n",
    "s= sns.distplot(sim_8_256_ , hist=True, label='SM-128',\n",
    "             hist_kws={'weights': np.full(len(sim_8_256_), 1/len(sim_8_256_))})\n",
    "s= sns.distplot(sim_9_256_ , hist=True, label='Seg',\n",
    "             hist_kws={'weights': np.full(len(sim_9_256_), 1/len(sim_9_256_))})\n",
    "\n",
    "\n",
    "plt.xlabel('Wealth')\n",
    "plt.ylabel('Density Distribution')\n",
    "plt.legend()\n",
    "plt.show()"
   ]
  },
  {
   "cell_type": "code",
   "execution_count": 109,
   "metadata": {},
   "outputs": [
    {
     "data": {
      "text/plain": [
       "[0.18516907037826652,\n",
       " 0.1837919501669491,\n",
       " 0.17694311860703324,\n",
       " 0.17184234206150154,\n",
       " 0.17043428944001335]"
      ]
     },
     "execution_count": 109,
     "metadata": {},
     "output_type": "execute_result"
    }
   ],
   "source": [
    "'''\n",
    "Decreasing the decimal numbers.\n",
    "\n",
    "'''\n",
    "peak_ratios_16\n",
    "peak_ratios_16 = [ '%.4f' % elem for elem in peak_ratios_16 ]"
   ]
  },
  {
   "cell_type": "code",
   "execution_count": 111,
   "metadata": {},
   "outputs": [
    {
     "data": {
      "text/plain": [
       "['0.1852', '0.1838', '0.1769', '0.1718', '0.1704']"
      ]
     },
     "execution_count": 111,
     "metadata": {},
     "output_type": "execute_result"
    }
   ],
   "source": [
    "peak_ratios_16"
   ]
  },
  {
   "cell_type": "code",
   "execution_count": 128,
   "metadata": {},
   "outputs": [
    {
     "data": {
      "text/plain": [
       "[0.18488905831152755,\n",
       " 0.18456689429733483,\n",
       " 0.1785722599157652,\n",
       " 0.17388257904065282,\n",
       " 0.17112875382532647,\n",
       " 0.16965181657975295,\n",
       " 0.1692745063561701]"
      ]
     },
     "execution_count": 128,
     "metadata": {},
     "output_type": "execute_result"
    }
   ],
   "source": [
    "peak_ratios_64"
   ]
  },
  {
   "cell_type": "code",
   "execution_count": 130,
   "metadata": {},
   "outputs": [
    {
     "data": {
      "text/plain": [
       "[0.18488905831152755,\n",
       " 0.18456689429733483,\n",
       " 0.1785722599157652,\n",
       " 0.17388257904065282,\n",
       " 0.17112875382532647,\n",
       " 0.16965181657975295,\n",
       " 0.1692745063561701]"
      ]
     },
     "execution_count": 130,
     "metadata": {},
     "output_type": "execute_result"
    }
   ],
   "source": [
    "pr_64 = peak_ratios_64\n",
    "pr_64"
   ]
  },
  {
   "cell_type": "code",
   "execution_count": 131,
   "metadata": {},
   "outputs": [
    {
     "data": {
      "text/plain": [
       "['0.1849', '0.1846', '0.1786', '0.1739', '0.1711', '0.1697', '0.1693']"
      ]
     },
     "execution_count": 131,
     "metadata": {},
     "output_type": "execute_result"
    }
   ],
   "source": [
    "pr_64 = [ '%.4f' % elem for elem in pr_64]\n",
    "pr_64"
   ]
  },
  {
   "cell_type": "code",
   "execution_count": 112,
   "metadata": {},
   "outputs": [
    {
     "data": {
      "text/plain": [
       "[0.1848146536489902,\n",
       " 0.18473549921060944,\n",
       " 0.17895498227706827,\n",
       " 0.1743688964479753,\n",
       " 0.17166550734340397,\n",
       " 0.1702134129600273,\n",
       " 0.1694625606497675,\n",
       " 0.16908097135750785,\n",
       " 0.16898507306808142]"
      ]
     },
     "execution_count": 112,
     "metadata": {},
     "output_type": "execute_result"
    }
   ],
   "source": [
    "peak_ratios_256\n",
    "pr_256 = peak_ratios_256"
   ]
  },
  {
   "cell_type": "code",
   "execution_count": 119,
   "metadata": {},
   "outputs": [
    {
     "data": {
      "text/plain": [
       "['0.1848',\n",
       " '0.1847',\n",
       " '0.1790',\n",
       " '0.1744',\n",
       " '0.1717',\n",
       " '0.1702',\n",
       " '0.1695',\n",
       " '0.1691',\n",
       " '0.1690']"
      ]
     },
     "execution_count": 119,
     "metadata": {},
     "output_type": "execute_result"
    }
   ],
   "source": [
    "pr_256 = [ '%.4f' % elem for elem in pr_256]\n",
    "pr_256"
   ]
  },
  {
   "cell_type": "code",
   "execution_count": 134,
   "metadata": {},
   "outputs": [
    {
     "data": {
      "application/vnd.plotly.v1+json": {
       "config": {
        "plotlyServerURL": "https://plot.ly"
       },
       "data": [
        {
         "cells": {
          "values": [
           [
            "16 x 16",
            "64 x 64",
            "256 x 256"
           ],
           [
            "0.1852",
            "0.1849",
            "0.1848"
           ],
           [
            "0.1838",
            "0.1846",
            "0.1847"
           ],
           [
            "0.1769",
            "0.1786",
            "0.1790"
           ],
           [
            "0.1718",
            "0.1739",
            "0.1744"
           ],
           [
            "-",
            "0.1711",
            "0.1717"
           ],
           [
            "-",
            "0.1697",
            "0.1702"
           ],
           [
            "-",
            "-",
            "0.1695"
           ],
           [
            "-",
            "-",
            "0.1691"
           ],
           [
            "0.1704",
            "0.1693",
            "0.1690"
           ]
          ]
         },
         "header": {
          "align": "center",
          "font": {
           "size": 10
          },
          "values": [
           "Grid Size",
           "Mix",
           "SM-2",
           "SM-4",
           "SM-8",
           "SM-16",
           "SM-32",
           "SM-64",
           "SM-128",
           "Segregated"
          ]
         },
         "type": "table"
        }
       ],
       "layout": {
        "template": {
         "data": {
          "bar": [
           {
            "error_x": {
             "color": "#2a3f5f"
            },
            "error_y": {
             "color": "#2a3f5f"
            },
            "marker": {
             "line": {
              "color": "#E5ECF6",
              "width": 0.5
             }
            },
            "type": "bar"
           }
          ],
          "barpolar": [
           {
            "marker": {
             "line": {
              "color": "#E5ECF6",
              "width": 0.5
             }
            },
            "type": "barpolar"
           }
          ],
          "carpet": [
           {
            "aaxis": {
             "endlinecolor": "#2a3f5f",
             "gridcolor": "white",
             "linecolor": "white",
             "minorgridcolor": "white",
             "startlinecolor": "#2a3f5f"
            },
            "baxis": {
             "endlinecolor": "#2a3f5f",
             "gridcolor": "white",
             "linecolor": "white",
             "minorgridcolor": "white",
             "startlinecolor": "#2a3f5f"
            },
            "type": "carpet"
           }
          ],
          "choropleth": [
           {
            "colorbar": {
             "outlinewidth": 0,
             "ticks": ""
            },
            "type": "choropleth"
           }
          ],
          "contour": [
           {
            "colorbar": {
             "outlinewidth": 0,
             "ticks": ""
            },
            "colorscale": [
             [
              0,
              "#0d0887"
             ],
             [
              0.1111111111111111,
              "#46039f"
             ],
             [
              0.2222222222222222,
              "#7201a8"
             ],
             [
              0.3333333333333333,
              "#9c179e"
             ],
             [
              0.4444444444444444,
              "#bd3786"
             ],
             [
              0.5555555555555556,
              "#d8576b"
             ],
             [
              0.6666666666666666,
              "#ed7953"
             ],
             [
              0.7777777777777778,
              "#fb9f3a"
             ],
             [
              0.8888888888888888,
              "#fdca26"
             ],
             [
              1,
              "#f0f921"
             ]
            ],
            "type": "contour"
           }
          ],
          "contourcarpet": [
           {
            "colorbar": {
             "outlinewidth": 0,
             "ticks": ""
            },
            "type": "contourcarpet"
           }
          ],
          "heatmap": [
           {
            "colorbar": {
             "outlinewidth": 0,
             "ticks": ""
            },
            "colorscale": [
             [
              0,
              "#0d0887"
             ],
             [
              0.1111111111111111,
              "#46039f"
             ],
             [
              0.2222222222222222,
              "#7201a8"
             ],
             [
              0.3333333333333333,
              "#9c179e"
             ],
             [
              0.4444444444444444,
              "#bd3786"
             ],
             [
              0.5555555555555556,
              "#d8576b"
             ],
             [
              0.6666666666666666,
              "#ed7953"
             ],
             [
              0.7777777777777778,
              "#fb9f3a"
             ],
             [
              0.8888888888888888,
              "#fdca26"
             ],
             [
              1,
              "#f0f921"
             ]
            ],
            "type": "heatmap"
           }
          ],
          "heatmapgl": [
           {
            "colorbar": {
             "outlinewidth": 0,
             "ticks": ""
            },
            "colorscale": [
             [
              0,
              "#0d0887"
             ],
             [
              0.1111111111111111,
              "#46039f"
             ],
             [
              0.2222222222222222,
              "#7201a8"
             ],
             [
              0.3333333333333333,
              "#9c179e"
             ],
             [
              0.4444444444444444,
              "#bd3786"
             ],
             [
              0.5555555555555556,
              "#d8576b"
             ],
             [
              0.6666666666666666,
              "#ed7953"
             ],
             [
              0.7777777777777778,
              "#fb9f3a"
             ],
             [
              0.8888888888888888,
              "#fdca26"
             ],
             [
              1,
              "#f0f921"
             ]
            ],
            "type": "heatmapgl"
           }
          ],
          "histogram": [
           {
            "marker": {
             "colorbar": {
              "outlinewidth": 0,
              "ticks": ""
             }
            },
            "type": "histogram"
           }
          ],
          "histogram2d": [
           {
            "colorbar": {
             "outlinewidth": 0,
             "ticks": ""
            },
            "colorscale": [
             [
              0,
              "#0d0887"
             ],
             [
              0.1111111111111111,
              "#46039f"
             ],
             [
              0.2222222222222222,
              "#7201a8"
             ],
             [
              0.3333333333333333,
              "#9c179e"
             ],
             [
              0.4444444444444444,
              "#bd3786"
             ],
             [
              0.5555555555555556,
              "#d8576b"
             ],
             [
              0.6666666666666666,
              "#ed7953"
             ],
             [
              0.7777777777777778,
              "#fb9f3a"
             ],
             [
              0.8888888888888888,
              "#fdca26"
             ],
             [
              1,
              "#f0f921"
             ]
            ],
            "type": "histogram2d"
           }
          ],
          "histogram2dcontour": [
           {
            "colorbar": {
             "outlinewidth": 0,
             "ticks": ""
            },
            "colorscale": [
             [
              0,
              "#0d0887"
             ],
             [
              0.1111111111111111,
              "#46039f"
             ],
             [
              0.2222222222222222,
              "#7201a8"
             ],
             [
              0.3333333333333333,
              "#9c179e"
             ],
             [
              0.4444444444444444,
              "#bd3786"
             ],
             [
              0.5555555555555556,
              "#d8576b"
             ],
             [
              0.6666666666666666,
              "#ed7953"
             ],
             [
              0.7777777777777778,
              "#fb9f3a"
             ],
             [
              0.8888888888888888,
              "#fdca26"
             ],
             [
              1,
              "#f0f921"
             ]
            ],
            "type": "histogram2dcontour"
           }
          ],
          "mesh3d": [
           {
            "colorbar": {
             "outlinewidth": 0,
             "ticks": ""
            },
            "type": "mesh3d"
           }
          ],
          "parcoords": [
           {
            "line": {
             "colorbar": {
              "outlinewidth": 0,
              "ticks": ""
             }
            },
            "type": "parcoords"
           }
          ],
          "pie": [
           {
            "automargin": true,
            "type": "pie"
           }
          ],
          "scatter": [
           {
            "marker": {
             "colorbar": {
              "outlinewidth": 0,
              "ticks": ""
             }
            },
            "type": "scatter"
           }
          ],
          "scatter3d": [
           {
            "line": {
             "colorbar": {
              "outlinewidth": 0,
              "ticks": ""
             }
            },
            "marker": {
             "colorbar": {
              "outlinewidth": 0,
              "ticks": ""
             }
            },
            "type": "scatter3d"
           }
          ],
          "scattercarpet": [
           {
            "marker": {
             "colorbar": {
              "outlinewidth": 0,
              "ticks": ""
             }
            },
            "type": "scattercarpet"
           }
          ],
          "scattergeo": [
           {
            "marker": {
             "colorbar": {
              "outlinewidth": 0,
              "ticks": ""
             }
            },
            "type": "scattergeo"
           }
          ],
          "scattergl": [
           {
            "marker": {
             "colorbar": {
              "outlinewidth": 0,
              "ticks": ""
             }
            },
            "type": "scattergl"
           }
          ],
          "scattermapbox": [
           {
            "marker": {
             "colorbar": {
              "outlinewidth": 0,
              "ticks": ""
             }
            },
            "type": "scattermapbox"
           }
          ],
          "scatterpolar": [
           {
            "marker": {
             "colorbar": {
              "outlinewidth": 0,
              "ticks": ""
             }
            },
            "type": "scatterpolar"
           }
          ],
          "scatterpolargl": [
           {
            "marker": {
             "colorbar": {
              "outlinewidth": 0,
              "ticks": ""
             }
            },
            "type": "scatterpolargl"
           }
          ],
          "scatterternary": [
           {
            "marker": {
             "colorbar": {
              "outlinewidth": 0,
              "ticks": ""
             }
            },
            "type": "scatterternary"
           }
          ],
          "surface": [
           {
            "colorbar": {
             "outlinewidth": 0,
             "ticks": ""
            },
            "colorscale": [
             [
              0,
              "#0d0887"
             ],
             [
              0.1111111111111111,
              "#46039f"
             ],
             [
              0.2222222222222222,
              "#7201a8"
             ],
             [
              0.3333333333333333,
              "#9c179e"
             ],
             [
              0.4444444444444444,
              "#bd3786"
             ],
             [
              0.5555555555555556,
              "#d8576b"
             ],
             [
              0.6666666666666666,
              "#ed7953"
             ],
             [
              0.7777777777777778,
              "#fb9f3a"
             ],
             [
              0.8888888888888888,
              "#fdca26"
             ],
             [
              1,
              "#f0f921"
             ]
            ],
            "type": "surface"
           }
          ],
          "table": [
           {
            "cells": {
             "fill": {
              "color": "#EBF0F8"
             },
             "line": {
              "color": "white"
             }
            },
            "header": {
             "fill": {
              "color": "#C8D4E3"
             },
             "line": {
              "color": "white"
             }
            },
            "type": "table"
           }
          ]
         },
         "layout": {
          "annotationdefaults": {
           "arrowcolor": "#2a3f5f",
           "arrowhead": 0,
           "arrowwidth": 1
          },
          "coloraxis": {
           "colorbar": {
            "outlinewidth": 0,
            "ticks": ""
           }
          },
          "colorscale": {
           "diverging": [
            [
             0,
             "#8e0152"
            ],
            [
             0.1,
             "#c51b7d"
            ],
            [
             0.2,
             "#de77ae"
            ],
            [
             0.3,
             "#f1b6da"
            ],
            [
             0.4,
             "#fde0ef"
            ],
            [
             0.5,
             "#f7f7f7"
            ],
            [
             0.6,
             "#e6f5d0"
            ],
            [
             0.7,
             "#b8e186"
            ],
            [
             0.8,
             "#7fbc41"
            ],
            [
             0.9,
             "#4d9221"
            ],
            [
             1,
             "#276419"
            ]
           ],
           "sequential": [
            [
             0,
             "#0d0887"
            ],
            [
             0.1111111111111111,
             "#46039f"
            ],
            [
             0.2222222222222222,
             "#7201a8"
            ],
            [
             0.3333333333333333,
             "#9c179e"
            ],
            [
             0.4444444444444444,
             "#bd3786"
            ],
            [
             0.5555555555555556,
             "#d8576b"
            ],
            [
             0.6666666666666666,
             "#ed7953"
            ],
            [
             0.7777777777777778,
             "#fb9f3a"
            ],
            [
             0.8888888888888888,
             "#fdca26"
            ],
            [
             1,
             "#f0f921"
            ]
           ],
           "sequentialminus": [
            [
             0,
             "#0d0887"
            ],
            [
             0.1111111111111111,
             "#46039f"
            ],
            [
             0.2222222222222222,
             "#7201a8"
            ],
            [
             0.3333333333333333,
             "#9c179e"
            ],
            [
             0.4444444444444444,
             "#bd3786"
            ],
            [
             0.5555555555555556,
             "#d8576b"
            ],
            [
             0.6666666666666666,
             "#ed7953"
            ],
            [
             0.7777777777777778,
             "#fb9f3a"
            ],
            [
             0.8888888888888888,
             "#fdca26"
            ],
            [
             1,
             "#f0f921"
            ]
           ]
          },
          "colorway": [
           "#636efa",
           "#EF553B",
           "#00cc96",
           "#ab63fa",
           "#FFA15A",
           "#19d3f3",
           "#FF6692",
           "#B6E880",
           "#FF97FF",
           "#FECB52"
          ],
          "font": {
           "color": "#2a3f5f"
          },
          "geo": {
           "bgcolor": "white",
           "lakecolor": "white",
           "landcolor": "#E5ECF6",
           "showlakes": true,
           "showland": true,
           "subunitcolor": "white"
          },
          "hoverlabel": {
           "align": "left"
          },
          "hovermode": "closest",
          "mapbox": {
           "style": "light"
          },
          "paper_bgcolor": "white",
          "plot_bgcolor": "#E5ECF6",
          "polar": {
           "angularaxis": {
            "gridcolor": "white",
            "linecolor": "white",
            "ticks": ""
           },
           "bgcolor": "#E5ECF6",
           "radialaxis": {
            "gridcolor": "white",
            "linecolor": "white",
            "ticks": ""
           }
          },
          "scene": {
           "xaxis": {
            "backgroundcolor": "#E5ECF6",
            "gridcolor": "white",
            "gridwidth": 2,
            "linecolor": "white",
            "showbackground": true,
            "ticks": "",
            "zerolinecolor": "white"
           },
           "yaxis": {
            "backgroundcolor": "#E5ECF6",
            "gridcolor": "white",
            "gridwidth": 2,
            "linecolor": "white",
            "showbackground": true,
            "ticks": "",
            "zerolinecolor": "white"
           },
           "zaxis": {
            "backgroundcolor": "#E5ECF6",
            "gridcolor": "white",
            "gridwidth": 2,
            "linecolor": "white",
            "showbackground": true,
            "ticks": "",
            "zerolinecolor": "white"
           }
          },
          "shapedefaults": {
           "line": {
            "color": "#2a3f5f"
           }
          },
          "ternary": {
           "aaxis": {
            "gridcolor": "white",
            "linecolor": "white",
            "ticks": ""
           },
           "baxis": {
            "gridcolor": "white",
            "linecolor": "white",
            "ticks": ""
           },
           "bgcolor": "#E5ECF6",
           "caxis": {
            "gridcolor": "white",
            "linecolor": "white",
            "ticks": ""
           }
          },
          "title": {
           "x": 0.05
          },
          "xaxis": {
           "automargin": true,
           "gridcolor": "white",
           "linecolor": "white",
           "ticks": "",
           "title": {
            "standoff": 15
           },
           "zerolinecolor": "white",
           "zerolinewidth": 2
          },
          "yaxis": {
           "automargin": true,
           "gridcolor": "white",
           "linecolor": "white",
           "ticks": "",
           "title": {
            "standoff": 15
           },
           "zerolinecolor": "white",
           "zerolinewidth": 2
          }
         }
        },
        "title": {
         "text": "Ratio of the Peaks in the lower and higher distributions"
        }
       }
      },
      "text/html": [
       "<div>\n",
       "        \n",
       "        \n",
       "            <div id=\"2a568677-6352-48f2-9e9d-6e8cad9d175b\" class=\"plotly-graph-div\" style=\"height:525px; width:100%;\"></div>\n",
       "            <script type=\"text/javascript\">\n",
       "                require([\"plotly\"], function(Plotly) {\n",
       "                    window.PLOTLYENV=window.PLOTLYENV || {};\n",
       "                    \n",
       "                if (document.getElementById(\"2a568677-6352-48f2-9e9d-6e8cad9d175b\")) {\n",
       "                    Plotly.newPlot(\n",
       "                        '2a568677-6352-48f2-9e9d-6e8cad9d175b',\n",
       "                        [{\"cells\": {\"values\": [[\"16 x 16\", \"64 x 64\", \"256 x 256\"], [\"0.1852\", \"0.1849\", \"0.1848\"], [\"0.1838\", \"0.1846\", \"0.1847\"], [\"0.1769\", \"0.1786\", \"0.1790\"], [\"0.1718\", \"0.1739\", \"0.1744\"], [\"-\", \"0.1711\", \"0.1717\"], [\"-\", \"0.1697\", \"0.1702\"], [\"-\", \"-\", \"0.1695\"], [\"-\", \"-\", \"0.1691\"], [\"0.1704\", \"0.1693\", \"0.1690\"]]}, \"header\": {\"align\": \"center\", \"font\": {\"size\": 10}, \"values\": [\"Grid Size\", \"Mix\", \"SM-2\", \"SM-4\", \"SM-8\", \"SM-16\", \"SM-32\", \"SM-64\", \"SM-128\", \"Segregated\"]}, \"type\": \"table\"}],\n",
       "                        {\"template\": {\"data\": {\"bar\": [{\"error_x\": {\"color\": \"#2a3f5f\"}, \"error_y\": {\"color\": \"#2a3f5f\"}, \"marker\": {\"line\": {\"color\": \"#E5ECF6\", \"width\": 0.5}}, \"type\": \"bar\"}], \"barpolar\": [{\"marker\": {\"line\": {\"color\": \"#E5ECF6\", \"width\": 0.5}}, \"type\": \"barpolar\"}], \"carpet\": [{\"aaxis\": {\"endlinecolor\": \"#2a3f5f\", \"gridcolor\": \"white\", \"linecolor\": \"white\", \"minorgridcolor\": \"white\", \"startlinecolor\": \"#2a3f5f\"}, \"baxis\": {\"endlinecolor\": \"#2a3f5f\", \"gridcolor\": \"white\", \"linecolor\": \"white\", \"minorgridcolor\": \"white\", \"startlinecolor\": \"#2a3f5f\"}, \"type\": \"carpet\"}], \"choropleth\": [{\"colorbar\": {\"outlinewidth\": 0, \"ticks\": \"\"}, \"type\": \"choropleth\"}], \"contour\": [{\"colorbar\": {\"outlinewidth\": 0, \"ticks\": \"\"}, \"colorscale\": [[0.0, \"#0d0887\"], [0.1111111111111111, \"#46039f\"], [0.2222222222222222, \"#7201a8\"], [0.3333333333333333, \"#9c179e\"], [0.4444444444444444, \"#bd3786\"], [0.5555555555555556, \"#d8576b\"], [0.6666666666666666, \"#ed7953\"], [0.7777777777777778, \"#fb9f3a\"], [0.8888888888888888, \"#fdca26\"], [1.0, \"#f0f921\"]], \"type\": \"contour\"}], \"contourcarpet\": [{\"colorbar\": {\"outlinewidth\": 0, \"ticks\": \"\"}, \"type\": \"contourcarpet\"}], \"heatmap\": [{\"colorbar\": {\"outlinewidth\": 0, \"ticks\": \"\"}, \"colorscale\": [[0.0, \"#0d0887\"], [0.1111111111111111, \"#46039f\"], [0.2222222222222222, \"#7201a8\"], [0.3333333333333333, \"#9c179e\"], [0.4444444444444444, \"#bd3786\"], [0.5555555555555556, \"#d8576b\"], [0.6666666666666666, \"#ed7953\"], [0.7777777777777778, \"#fb9f3a\"], [0.8888888888888888, \"#fdca26\"], [1.0, \"#f0f921\"]], \"type\": \"heatmap\"}], \"heatmapgl\": [{\"colorbar\": {\"outlinewidth\": 0, \"ticks\": \"\"}, \"colorscale\": [[0.0, \"#0d0887\"], [0.1111111111111111, \"#46039f\"], [0.2222222222222222, \"#7201a8\"], [0.3333333333333333, \"#9c179e\"], [0.4444444444444444, \"#bd3786\"], [0.5555555555555556, \"#d8576b\"], [0.6666666666666666, \"#ed7953\"], [0.7777777777777778, \"#fb9f3a\"], [0.8888888888888888, \"#fdca26\"], [1.0, \"#f0f921\"]], \"type\": \"heatmapgl\"}], \"histogram\": [{\"marker\": {\"colorbar\": {\"outlinewidth\": 0, \"ticks\": \"\"}}, \"type\": \"histogram\"}], \"histogram2d\": [{\"colorbar\": {\"outlinewidth\": 0, \"ticks\": \"\"}, \"colorscale\": [[0.0, \"#0d0887\"], [0.1111111111111111, \"#46039f\"], [0.2222222222222222, \"#7201a8\"], [0.3333333333333333, \"#9c179e\"], [0.4444444444444444, \"#bd3786\"], [0.5555555555555556, \"#d8576b\"], [0.6666666666666666, \"#ed7953\"], [0.7777777777777778, \"#fb9f3a\"], [0.8888888888888888, \"#fdca26\"], [1.0, \"#f0f921\"]], \"type\": \"histogram2d\"}], \"histogram2dcontour\": [{\"colorbar\": {\"outlinewidth\": 0, \"ticks\": \"\"}, \"colorscale\": [[0.0, \"#0d0887\"], [0.1111111111111111, \"#46039f\"], [0.2222222222222222, \"#7201a8\"], [0.3333333333333333, \"#9c179e\"], [0.4444444444444444, \"#bd3786\"], [0.5555555555555556, \"#d8576b\"], [0.6666666666666666, \"#ed7953\"], [0.7777777777777778, \"#fb9f3a\"], [0.8888888888888888, \"#fdca26\"], [1.0, \"#f0f921\"]], \"type\": \"histogram2dcontour\"}], \"mesh3d\": [{\"colorbar\": {\"outlinewidth\": 0, \"ticks\": \"\"}, \"type\": \"mesh3d\"}], \"parcoords\": [{\"line\": {\"colorbar\": {\"outlinewidth\": 0, \"ticks\": \"\"}}, \"type\": \"parcoords\"}], \"pie\": [{\"automargin\": true, \"type\": \"pie\"}], \"scatter\": [{\"marker\": {\"colorbar\": {\"outlinewidth\": 0, \"ticks\": \"\"}}, \"type\": \"scatter\"}], \"scatter3d\": [{\"line\": {\"colorbar\": {\"outlinewidth\": 0, \"ticks\": \"\"}}, \"marker\": {\"colorbar\": {\"outlinewidth\": 0, \"ticks\": \"\"}}, \"type\": \"scatter3d\"}], \"scattercarpet\": [{\"marker\": {\"colorbar\": {\"outlinewidth\": 0, \"ticks\": \"\"}}, \"type\": \"scattercarpet\"}], \"scattergeo\": [{\"marker\": {\"colorbar\": {\"outlinewidth\": 0, \"ticks\": \"\"}}, \"type\": \"scattergeo\"}], \"scattergl\": [{\"marker\": {\"colorbar\": {\"outlinewidth\": 0, \"ticks\": \"\"}}, \"type\": \"scattergl\"}], \"scattermapbox\": [{\"marker\": {\"colorbar\": {\"outlinewidth\": 0, \"ticks\": \"\"}}, \"type\": \"scattermapbox\"}], \"scatterpolar\": [{\"marker\": {\"colorbar\": {\"outlinewidth\": 0, \"ticks\": \"\"}}, \"type\": \"scatterpolar\"}], \"scatterpolargl\": [{\"marker\": {\"colorbar\": {\"outlinewidth\": 0, \"ticks\": \"\"}}, \"type\": \"scatterpolargl\"}], \"scatterternary\": [{\"marker\": {\"colorbar\": {\"outlinewidth\": 0, \"ticks\": \"\"}}, \"type\": \"scatterternary\"}], \"surface\": [{\"colorbar\": {\"outlinewidth\": 0, \"ticks\": \"\"}, \"colorscale\": [[0.0, \"#0d0887\"], [0.1111111111111111, \"#46039f\"], [0.2222222222222222, \"#7201a8\"], [0.3333333333333333, \"#9c179e\"], [0.4444444444444444, \"#bd3786\"], [0.5555555555555556, \"#d8576b\"], [0.6666666666666666, \"#ed7953\"], [0.7777777777777778, \"#fb9f3a\"], [0.8888888888888888, \"#fdca26\"], [1.0, \"#f0f921\"]], \"type\": \"surface\"}], \"table\": [{\"cells\": {\"fill\": {\"color\": \"#EBF0F8\"}, \"line\": {\"color\": \"white\"}}, \"header\": {\"fill\": {\"color\": \"#C8D4E3\"}, \"line\": {\"color\": \"white\"}}, \"type\": \"table\"}]}, \"layout\": {\"annotationdefaults\": {\"arrowcolor\": \"#2a3f5f\", \"arrowhead\": 0, \"arrowwidth\": 1}, \"coloraxis\": {\"colorbar\": {\"outlinewidth\": 0, \"ticks\": \"\"}}, \"colorscale\": {\"diverging\": [[0, \"#8e0152\"], [0.1, \"#c51b7d\"], [0.2, \"#de77ae\"], [0.3, \"#f1b6da\"], [0.4, \"#fde0ef\"], [0.5, \"#f7f7f7\"], [0.6, \"#e6f5d0\"], [0.7, \"#b8e186\"], [0.8, \"#7fbc41\"], [0.9, \"#4d9221\"], [1, \"#276419\"]], \"sequential\": [[0.0, \"#0d0887\"], [0.1111111111111111, \"#46039f\"], [0.2222222222222222, \"#7201a8\"], [0.3333333333333333, \"#9c179e\"], [0.4444444444444444, \"#bd3786\"], [0.5555555555555556, \"#d8576b\"], [0.6666666666666666, \"#ed7953\"], [0.7777777777777778, \"#fb9f3a\"], [0.8888888888888888, \"#fdca26\"], [1.0, \"#f0f921\"]], \"sequentialminus\": [[0.0, \"#0d0887\"], [0.1111111111111111, \"#46039f\"], [0.2222222222222222, \"#7201a8\"], [0.3333333333333333, \"#9c179e\"], [0.4444444444444444, \"#bd3786\"], [0.5555555555555556, \"#d8576b\"], [0.6666666666666666, \"#ed7953\"], [0.7777777777777778, \"#fb9f3a\"], [0.8888888888888888, \"#fdca26\"], [1.0, \"#f0f921\"]]}, \"colorway\": [\"#636efa\", \"#EF553B\", \"#00cc96\", \"#ab63fa\", \"#FFA15A\", \"#19d3f3\", \"#FF6692\", \"#B6E880\", \"#FF97FF\", \"#FECB52\"], \"font\": {\"color\": \"#2a3f5f\"}, \"geo\": {\"bgcolor\": \"white\", \"lakecolor\": \"white\", \"landcolor\": \"#E5ECF6\", \"showlakes\": true, \"showland\": true, \"subunitcolor\": \"white\"}, \"hoverlabel\": {\"align\": \"left\"}, \"hovermode\": \"closest\", \"mapbox\": {\"style\": \"light\"}, \"paper_bgcolor\": \"white\", \"plot_bgcolor\": \"#E5ECF6\", \"polar\": {\"angularaxis\": {\"gridcolor\": \"white\", \"linecolor\": \"white\", \"ticks\": \"\"}, \"bgcolor\": \"#E5ECF6\", \"radialaxis\": {\"gridcolor\": \"white\", \"linecolor\": \"white\", \"ticks\": \"\"}}, \"scene\": {\"xaxis\": {\"backgroundcolor\": \"#E5ECF6\", \"gridcolor\": \"white\", \"gridwidth\": 2, \"linecolor\": \"white\", \"showbackground\": true, \"ticks\": \"\", \"zerolinecolor\": \"white\"}, \"yaxis\": {\"backgroundcolor\": \"#E5ECF6\", \"gridcolor\": \"white\", \"gridwidth\": 2, \"linecolor\": \"white\", \"showbackground\": true, \"ticks\": \"\", \"zerolinecolor\": \"white\"}, \"zaxis\": {\"backgroundcolor\": \"#E5ECF6\", \"gridcolor\": \"white\", \"gridwidth\": 2, \"linecolor\": \"white\", \"showbackground\": true, \"ticks\": \"\", \"zerolinecolor\": \"white\"}}, \"shapedefaults\": {\"line\": {\"color\": \"#2a3f5f\"}}, \"ternary\": {\"aaxis\": {\"gridcolor\": \"white\", \"linecolor\": \"white\", \"ticks\": \"\"}, \"baxis\": {\"gridcolor\": \"white\", \"linecolor\": \"white\", \"ticks\": \"\"}, \"bgcolor\": \"#E5ECF6\", \"caxis\": {\"gridcolor\": \"white\", \"linecolor\": \"white\", \"ticks\": \"\"}}, \"title\": {\"x\": 0.05}, \"xaxis\": {\"automargin\": true, \"gridcolor\": \"white\", \"linecolor\": \"white\", \"ticks\": \"\", \"title\": {\"standoff\": 15}, \"zerolinecolor\": \"white\", \"zerolinewidth\": 2}, \"yaxis\": {\"automargin\": true, \"gridcolor\": \"white\", \"linecolor\": \"white\", \"ticks\": \"\", \"title\": {\"standoff\": 15}, \"zerolinecolor\": \"white\", \"zerolinewidth\": 2}}}, \"title\": {\"text\": \"Ratio of the Peaks in the lower and higher distributions\"}},\n",
       "                        {\"responsive\": true}\n",
       "                    ).then(function(){\n",
       "                            \n",
       "var gd = document.getElementById('2a568677-6352-48f2-9e9d-6e8cad9d175b');\n",
       "var x = new MutationObserver(function (mutations, observer) {{\n",
       "        var display = window.getComputedStyle(gd).display;\n",
       "        if (!display || display === 'none') {{\n",
       "            console.log([gd, 'removed!']);\n",
       "            Plotly.purge(gd);\n",
       "            observer.disconnect();\n",
       "        }}\n",
       "}});\n",
       "\n",
       "// Listen for the removal of the full notebook cells\n",
       "var notebookContainer = gd.closest('#notebook-container');\n",
       "if (notebookContainer) {{\n",
       "    x.observe(notebookContainer, {childList: true});\n",
       "}}\n",
       "\n",
       "// Listen for the clearing of the current output cell\n",
       "var outputEl = gd.closest('.output');\n",
       "if (outputEl) {{\n",
       "    x.observe(outputEl, {childList: true});\n",
       "}}\n",
       "\n",
       "                        })\n",
       "                };\n",
       "                });\n",
       "            </script>\n",
       "        </div>"
      ]
     },
     "metadata": {},
     "output_type": "display_data"
    }
   ],
   "source": [
    "'''\n",
    "Building a table with all possible combinations of initial distributions for three different sizes.\n",
    "\n",
    "'''\n",
    "fig = go.Figure(data=[go.Table(header=dict(values=['Grid Size', 'Mix', 'SM-2', 'SM-4', 'SM-8', 'SM-16', 'SM-32', 'SM-64', 'SM-128','Segregated'],\n",
    "                                           font=dict(size=10),\n",
    "                                            align=\"center\"),\n",
    "                               \n",
    "                               cells=dict(values=[['16 x 16','64 x 64', '256 x 256'],\n",
    "                                                  [peak_ratios_16[0], pr_64[0], pr_256[0]],\n",
    "                                                  [peak_ratios_16[1], pr_64[1], pr_256[1]],\n",
    "                                                  [peak_ratios_16[2], pr_64[2], pr_256[2]],\n",
    "                                                  [peak_ratios_16[3], pr_64[3], pr_256[3]],\n",
    "                                                  ['-', pr_64[4], pr_256[4]],\n",
    "                                                  ['-',  pr_64[5],pr_256[5]],\n",
    "                                                  ['-', '-', pr_256[6]],\n",
    "                                                  ['-', '-', pr_256[7]],\n",
    "                                                  [peak_ratios_16[4], pr_64[6], pr_256[8]]]))])\n",
    "\n",
    "fig.update_layout(\n",
    "    title_text=\"Ratio of the Peaks in the lower and higher distributions\",\n",
    ")\n",
    "\n",
    "fig.show()"
   ]
  },
  {
   "cell_type": "markdown",
   "metadata": {},
   "source": [
    "### Analyzing the effect of Grid and Neighborhood size"
   ]
  },
  {
   "cell_type": "code",
   "execution_count": 169,
   "metadata": {},
   "outputs": [
    {
     "data": {
      "image/png": "[encoded data removed]",
      "text/plain": [
       "<Figure size 432x288 with 1 Axes>"
      ]
     },
     "metadata": {},
     "output_type": "display_data"
    }
   ],
   "source": [
    "sim_1 = base_model(distr = \"Mix\")\n",
    "for _ in range(1000):\n",
    "    sim_1.update_grid()\n",
    "    \n",
    "sim_2 = base_model(distr = \"SM\", n=16)\n",
    "for _ in range(1000):\n",
    "    sim_2.update_grid()\n",
    "\n",
    "sim_3 = base_model(distr = \"SM\", n=32)\n",
    "for _ in range(1000):\n",
    "    sim_3.update_grid()\n",
    "    \n",
    "sim_4 = base_model(distr = \"SM\", n=64)\n",
    "for _ in range(1000):\n",
    "    sim_4.update_grid()\n",
    "    \n",
    "sim_5 = base_model(distr = \"SM\", n=128)\n",
    "for _ in range(1000):\n",
    "    sim_5.update_grid()\n",
    "    \n",
    "    \n",
    "sim_6 = base_model(distr = \"Seg\")\n",
    "for _ in range(1000):\n",
    "    sim_6.update_grid()\n",
    "    \n",
    "# grid_size= (8, 8), distr = \"SM\", n=2\n",
    "    \n",
    "s= sns.distplot(sim_1.wealth[~np.isnan(sim_1.wealth)], hist=True, label='Mix')\n",
    "s= sns.distplot(sim_2.wealth[~np.isnan(sim_2.wealth)], hist=True, label='SM -16')\n",
    "s= sns.distplot(sim_3.wealth[~np.isnan(sim_3.wealth)], hist=True, label='SM -32')\n",
    "s= sns.distplot(sim_4.wealth[~np.isnan(sim_4.wealth)], hist=True, label='SM -64')\n",
    "s= sns.distplot(sim_5.wealth[~np.isnan(sim_5.wealth)], hist=True, label='SM -128')\n",
    "s= sns.distplot(sim_6.wealth[~np.isnan(sim_6.wealth)], hist=True, label='Seg')\n",
    "\n",
    "\n",
    "plt.xlabel('Wealth')\n",
    "plt.ylabel('Density Distribution')\n",
    "plt.legend()\n",
    "plt.show()"
   ]
  },
  {
   "cell_type": "code",
   "execution_count": 170,
   "metadata": {},
   "outputs": [
    {
     "data": {
      "image/png": "[encoded data removed]",
      "text/plain": [
       "<Figure size 432x288 with 1 Axes>"
      ]
     },
     "metadata": {},
     "output_type": "display_data"
    }
   ],
   "source": [
    "sim_1 = base_model(grid_size = (16, 16), distr = \"Mix\")\n",
    "for _ in range(1000):\n",
    "    sim_1.update_grid()\n",
    "    \n",
    "sim_2 = base_model(grid_size = (32, 32), distr = \"Mix\")\n",
    "for _ in range(1000):\n",
    "    sim_2.update_grid()\n",
    "    \n",
    "sim_3 = base_model(grid_size = (64, 64), distr = \"Mix\")\n",
    "for _ in range(1000):\n",
    "    sim_3.update_grid()\n",
    "\n",
    "sim_4 = base_model(grid_size = (128, 128), distr = \"Mix\")\n",
    "for _ in range(1000):\n",
    "    sim_4.update_grid()\n",
    "    \n",
    "sim_5 = base_model(grid_size = (256, 256), distr = \"Mix\")\n",
    "for _ in range(1000):\n",
    "    sim_5.update_grid()\n",
    "    \n",
    "s= sns.distplot(sim_1.wealth[~np.isnan(sim_1.wealth)], hist=True, label='16x16')\n",
    "s= sns.distplot(sim_2.wealth[~np.isnan(sim_2.wealth)], hist=True, label='32x32')\n",
    "s= sns.distplot(sim_3.wealth[~np.isnan(sim_3.wealth)], hist=True, label='64x64')\n",
    "s= sns.distplot(sim_4.wealth[~np.isnan(sim_4.wealth)], hist=True, label='128x128')\n",
    "s= sns.distplot(sim_5.wealth[~np.isnan(sim_5.wealth)], hist=True, label='256x256')\n",
    "\n",
    "\n",
    "plt.xlabel('Wealth')\n",
    "plt.ylabel('Density Distribution')\n",
    "plt.legend()\n",
    "plt.show()"
   ]
  },
  {
   "cell_type": "code",
   "execution_count": 171,
   "metadata": {},
   "outputs": [
    {
     "data": {
      "image/png": "[encoded data removed]",
      "text/plain": [
       "<Figure size 432x288 with 1 Axes>"
      ]
     },
     "metadata": {},
     "output_type": "display_data"
    }
   ],
   "source": [
    "sim_1 = base_model(grid_size = (16, 16), distr = \"SM\", n=2)\n",
    "for _ in range(1000):\n",
    "    sim_1.update_grid()\n",
    "    \n",
    "sim_2 = base_model(grid_size = (32, 32), distr = \"SM\", n=2)\n",
    "for _ in range(1000):\n",
    "    sim_2.update_grid()\n",
    "    \n",
    "sim_3 = base_model(grid_size = (64, 64), distr = \"SM\", n=2)\n",
    "for _ in range(1000):\n",
    "    sim_3.update_grid()\n",
    "    \n",
    "sim_4 = base_model(grid_size = (128, 128), distr = \"SM\", n=2)\n",
    "for _ in range(1000):\n",
    "    sim_4.update_grid()\n",
    "    \n",
    "sim_5 = base_model(grid_size = (256, 256), distr = \"SM\", n=2)\n",
    "for _ in range(1000):\n",
    "    sim_5.update_grid()\n",
    "    \n",
    "    \n",
    "s= sns.distplot(sim_1.wealth[~np.isnan(sim_1.wealth)], hist=True, label='16x16')\n",
    "s= sns.distplot(sim_2.wealth[~np.isnan(sim_2.wealth)], hist=True, label='32x32')\n",
    "s= sns.distplot(sim_3.wealth[~np.isnan(sim_3.wealth)], hist=True, label='64x64')\n",
    "s= sns.distplot(sim_4.wealth[~np.isnan(sim_4.wealth)], hist=True, label='128x128')\n",
    "s= sns.distplot(sim_5.wealth[~np.isnan(sim_5.wealth)], hist=True, label='256x256')\n",
    "\n",
    "plt.xlabel('Wealth')\n",
    "plt.ylabel('Density Distribution')\n",
    "plt.legend()\n",
    "plt.show()\n"
   ]
  },
  {
   "cell_type": "code",
   "execution_count": 172,
   "metadata": {},
   "outputs": [
    {
     "data": {
      "image/png": "[encoded data removed]",
      "text/plain": [
       "<Figure size 432x288 with 1 Axes>"
      ]
     },
     "metadata": {},
     "output_type": "display_data"
    }
   ],
   "source": [
    "sim_1 = base_model(grid_size = (16, 16), distr = \"Seg\")\n",
    "for _ in range(1000):\n",
    "    sim_1.update_grid()\n",
    "    \n",
    "sim_2 = base_model(grid_size = (32, 32), distr = \"Seg\")\n",
    "for _ in range(1000):\n",
    "    sim_2.update_grid()\n",
    "    \n",
    "sim_3 = base_model(grid_size = (64, 64), distr = \"Seg\")\n",
    "for _ in range(1000):\n",
    "    sim_3.update_grid()\n",
    "    \n",
    "sim_4 = base_model(grid_size = (128, 128), distr = \"Seg\")\n",
    "for _ in range(1000):\n",
    "    sim_4.update_grid()\n",
    "    \n",
    "sim_5 = base_model(grid_size = (256, 256), distr = \"Seg\")\n",
    "for _ in range(1000):\n",
    "    sim_5.update_grid()\n",
    "    \n",
    "s= sns.distplot(sim_1.wealth[~np.isnan(sim_1.wealth)], hist=True, label='16x16')\n",
    "s= sns.distplot(sim_2.wealth[~np.isnan(sim_2.wealth)], hist=True, label='32x32')\n",
    "s= sns.distplot(sim_3.wealth[~np.isnan(sim_3.wealth)], hist=True, label='64x64')\n",
    "s= sns.distplot(sim_4.wealth[~np.isnan(sim_4.wealth)], hist=True, label='128x128')\n",
    "s= sns.distplot(sim_5.wealth[~np.isnan(sim_5.wealth)], hist=True, label='256x256')\n",
    "\n",
    "plt.xlabel('Wealth')\n",
    "plt.ylabel('Density Distribution')\n",
    "plt.legend()\n",
    "plt.show()"
   ]
  },
  {
   "cell_type": "markdown",
   "metadata": {},
   "source": [
    "# Correlated "
   ]
  },
  {
   "cell_type": "code",
   "execution_count": null,
   "metadata": {},
   "outputs": [],
   "source": [
    "all_models_avg = [] \n",
    "all_models_m = []\n",
    "all_models_mx = [] \n",
    "all_models_mn = []  \n",
    "\n",
    "for distr in [\"Seg\", \"SM\", \"Mix\"]:\n",
    "    \n",
    "    overall_avg_models = []\n",
    "    overall_median_models = []\n",
    "    overall_max_models = []\n",
    "    overall_min_models = []\n",
    "    \n",
    "    for i in range(1):\n",
    "        sim = Stochastic_Schelling(distr=distr)\n",
    "        sims_avg_models=[]\n",
    "        sims_median_models=[]\n",
    "        sims_max_models=[]\n",
    "        sims_min_models=[]\n",
    "        \n",
    "        for _ in range(5000):\n",
    "            sim.update_grid()\n",
    "            sims_avg_models.append(sim.get_avg_val(sim.wealth))\n",
    "            sims_median_models.append(sim.get_median(sim.wealth))\n",
    "            sims_max_models.append(sim.get_max_val(sim.wealth))\n",
    "            sims_min_models.append(sim.get_min_val(sim.wealth))\n",
    "            \n",
    "        overall_avg_models.append(sims_avg_models)\n",
    "        overall_median_models.append(sims_median_models)\n",
    "        overall_max_models.append(sims_max_models)\n",
    "        overall_min_models.append(sims_min_models)\n",
    "        \n",
    "    all_models_avg.append(overall_avg_models)\n",
    "    all_models_m.append(overall_median_models)\n",
    "    all_models_mx.append(overall_max_models)\n",
    "    all_models_mn.append(overall_min_models)"
   ]
  },
  {
   "cell_type": "code",
   "execution_count": null,
   "metadata": {},
   "outputs": [],
   "source": [
    "data_avg = []\n",
    "for i in range(5000):\n",
    "    for avg in all_models_avg[0]:\n",
    "        data_avg.append((i, avg[i], \"Seg\"))\n",
    "    \n",
    "    for avg in all_models_avg[1]:\n",
    "        data_avg.append((i, avg[i], \"SM\"))\n",
    "    \n",
    "    for avg in all_models_avg[2]:\n",
    "        data_avg.append((i, avg[i], \"Mix\"))\n",
    "        \n",
    "    \n",
    "da = pd.DataFrame(data_avg, columns = [\"Step\", \"Average\", \"Distribution\"])\n",
    "ax = sns.lineplot(x= \"Step\", y= \"Average\", hue=\"Distribution\", data=da)\n",
    "L= plt.legend()\n",
    "# plt.yscale('log')\n",
    "plt.show()"
   ]
  },
  {
   "cell_type": "code",
   "execution_count": null,
   "metadata": {},
   "outputs": [],
   "source": [
    "da"
   ]
  },
  {
   "cell_type": "code",
   "execution_count": null,
   "metadata": {},
   "outputs": [],
   "source": [
    "data_mx = []\n",
    "for i in range(5000):\n",
    "    for mx in all_models_mx[0]:\n",
    "        data_mx.append((i, mx[i], \"Seg\"))\n",
    "    \n",
    "    for mx in all_models_mx[1]:\n",
    "        data_mx.append((i, mx[i], \"SM\"))\n",
    "    \n",
    "    for mx in all_models_mx[2]:\n",
    "        data_mx.append((i, mx[i], \"Mix\"))\n",
    "    \n",
    "\n",
    "dmx = pd.DataFrame(data_mx, columns = [\"Step\", \"Max Income\", \"Distribution\"])\n",
    "ax = sns.lineplot(x= \"Step\", y= \"Max Income\", hue=\"Distribution\", data=dmx, legend='brief')\n",
    "L=plt.legend()\n",
    "# plt.yscale('log')\n",
    "plt.show()"
   ]
  },
  {
   "cell_type": "code",
   "execution_count": null,
   "metadata": {},
   "outputs": [],
   "source": [
    "dmx"
   ]
  },
  {
   "cell_type": "code",
   "execution_count": null,
   "metadata": {},
   "outputs": [],
   "source": [
    "data_mn = []\n",
    "for i in range(5000):\n",
    "    for mn in all_models_mn[0]:\n",
    "        data_mn.append((i, mn[i], \"Seg\"))\n",
    "    \n",
    "    for mn in all_models_mn[1]:\n",
    "        data_mn.append((i, mn[i], \"SM\"))\n",
    "    \n",
    "    for mn in all_models_mn[2]:\n",
    "        data_mn.append((i, mn[i], \"Mix\"))\n",
    "\n",
    "dmn = pd.DataFrame(data_mn, columns = [\"Step\", \"Min Income\", \"Distribution\"])\n",
    "ax = sns.lineplot(x= \"Step\", y= \"Min Income\", hue=\"Distribution\", data=dmn, legend='brief')\n",
    "L=plt.legend()\n",
    "# plt.yscale('log')\n",
    "plt.show()"
   ]
  },
  {
   "cell_type": "code",
   "execution_count": null,
   "metadata": {},
   "outputs": [],
   "source": [
    "dmn"
   ]
  },
  {
   "cell_type": "code",
   "execution_count": null,
   "metadata": {},
   "outputs": [],
   "source": [
    "data_m = []\n",
    "for i in range(5000):\n",
    "    for m in all_models_m[0]:\n",
    "        data_m.append((i, m[i], \"Seg\"))\n",
    "    \n",
    "    for m in all_models_m[1]:\n",
    "        data_m.append((i, m[i], \"SM\"))\n",
    "        \n",
    "    for m in all_models_m[2]:\n",
    "        data_m.append((i, m[i], \"Mix\"))\n",
    "\n",
    "dm = pd.DataFrame(data_m, columns = [\"Step\", \"Median\", \"Distribution\"])\n",
    "ax = sns.lineplot(x= \"Step\", y= \"Median\", hue=\"Distribution\", data=dm, legend='brief')\n",
    "# L=plt.legend()\n",
    "# plt.yscale('log')\n",
    "plt.show()"
   ]
  },
  {
   "cell_type": "code",
   "execution_count": null,
   "metadata": {},
   "outputs": [],
   "source": [
    "dm"
   ]
  },
  {
   "cell_type": "markdown",
   "metadata": {},
   "source": [
    "# Uncorrelated"
   ]
  },
  {
   "cell_type": "code",
   "execution_count": null,
   "metadata": {},
   "outputs": [],
   "source": [
    "all_models_avg = [] \n",
    "all_models_m = []\n",
    "all_models_mx = [] \n",
    "all_models_mn = []  \n",
    "\n",
    "for distr in [\"Seg\", \"SM\", \"Mix\"]:\n",
    "    \n",
    "    overall_avg_models = []\n",
    "    overall_median_models = []\n",
    "    overall_max_models = []\n",
    "    overall_min_models = []\n",
    "    \n",
    "    for i in range(1):\n",
    "        sim = Stochastic_Schelling(distr=distr)\n",
    "        sims_avg_models=[]\n",
    "        sims_median_models=[]\n",
    "        sims_max_models=[]\n",
    "        sims_min_models=[]\n",
    "        \n",
    "        for _ in range(5000):\n",
    "            sim.update_grid()\n",
    "            sims_avg_models.append(sim.get_avg_val(sim.wealth))\n",
    "            sims_median_models.append(sim.get_median(sim.wealth))\n",
    "            sims_max_models.append(sim.get_max_val(sim.wealth))\n",
    "            sims_min_models.append(sim.get_min_val(sim.wealth))\n",
    "            \n",
    "        overall_avg_models.append(sims_avg_models)\n",
    "        overall_median_models.append(sims_median_models)\n",
    "        overall_max_models.append(sims_max_models)\n",
    "        overall_min_models.append(sims_min_models)\n",
    "        \n",
    "    all_models_avg.append(overall_avg_models)\n",
    "    all_models_m.append(overall_median_models)\n",
    "    all_models_mx.append(overall_max_models)\n",
    "    all_models_mn.append(overall_min_models)"
   ]
  },
  {
   "cell_type": "code",
   "execution_count": null,
   "metadata": {},
   "outputs": [],
   "source": [
    "data_avg = []\n",
    "for i in range(5000):\n",
    "    for avg in all_models_avg[0]:\n",
    "        data_avg.append((i, avg[i], \"Seg\"))\n",
    "    \n",
    "    for avg in all_models_avg[1]:\n",
    "        data_avg.append((i, avg[i], \"SM\"))\n",
    "    \n",
    "    for avg in all_models_avg[2]:\n",
    "        data_avg.append((i, avg[i], \"Mix\"))\n",
    "        \n",
    "    \n",
    "da = pd.DataFrame(data_avg, columns = [\"Step\", \"Average\", \"Distribution\"])\n",
    "ax = sns.lineplot(x= \"Step\", y= \"Average\", hue=\"Distribution\", data=da, legend='brief')\n",
    "# L=plt.legend()\n",
    "# plt.yscale('log')\n",
    "# plt.axis([420,500, (5*10**3), np.max(da.Average)])\n",
    "plt.show()"
   ]
  },
  {
   "cell_type": "code",
   "execution_count": null,
   "metadata": {},
   "outputs": [],
   "source": [
    "data_mx = []\n",
    "for i in range(5000):\n",
    "    for mx in all_models_mx[0]:\n",
    "        data_mx.append((i, mx[i], \"Seg\"))\n",
    "    \n",
    "    for mx in all_models_mx[1]:\n",
    "        data_mx.append((i, mx[i], \"SM\"))\n",
    "    \n",
    "    for mx in all_models_mx[2]:\n",
    "        data_mx.append((i, mx[i], \"Mix\"))\n",
    "\n",
    "dmx = pd.DataFrame(data_mx, columns = [\"Step\", \"Max Income\", \"Distribution\"])\n",
    "ax = sns.lineplot(x= \"Step\", y= \"Max Income\", hue=\"Distribution\", data=dmx, legend='brief')\n",
    "# L=plt.legend()\n",
    "# plt.yscale('log')\n",
    "plt.show()"
   ]
  },
  {
   "cell_type": "code",
   "execution_count": null,
   "metadata": {},
   "outputs": [],
   "source": [
    "data_mn = []\n",
    "for i in range(5000):\n",
    "    for mn in all_models_mn[0]:\n",
    "        data_mn.append((i, mn[i], \"Seg\"))\n",
    "    \n",
    "    for mn in all_models_mn[1]:\n",
    "        data_mn.append((i, mn[i], \"SM\"))\n",
    "        \n",
    "    for mn in all_models_mn[2]:\n",
    "        data_mn.append((i, mn[i], \"Mix\"))\n",
    "\n",
    "dmn = pd.DataFrame(data_mn, columns = [\"Step\", \"Min Income\", \"Distribution\"])\n",
    "ax = sns.lineplot(x= \"Step\", y= \"Min Income\", hue=\"Distribution\", data=dmn, legend='brief')\n",
    "L=plt.legend()\n",
    "# plt.yscale('log')\n",
    "plt.show()"
   ]
  },
  {
   "cell_type": "code",
   "execution_count": null,
   "metadata": {},
   "outputs": [],
   "source": [
    "data_m = []\n",
    "for i in range(5000):\n",
    "    for m in all_models_m[0]:\n",
    "        data_m.append((i, m[i], \"Seg\"))\n",
    "    \n",
    "    for m in all_models_m[1]:\n",
    "        data_m.append((i, m[i], \"SM\"))\n",
    "        \n",
    "    for m in all_models_m[2]:\n",
    "        data_m.append((i, m[i], \"Mix\"))\n",
    "\n",
    "dm = pd.DataFrame(data_m, columns = [\"Step\", \"Median\", \"Segregation\"])\n",
    "ax = sns.lineplot(x= \"Step\", y= \"Median\", hue=\"Segregation\", data=dm, legend='brief')\n",
    "L=plt.legend()\n",
    "# plt.yscale('log')\n",
    "plt.show()"
   ]
  },
  {
   "cell_type": "markdown",
   "metadata": {},
   "source": [
    "# Scaling - Double Size (20, 20)"
   ]
  },
  {
   "cell_type": "code",
   "execution_count": null,
   "metadata": {},
   "outputs": [],
   "source": [
    "all_models_avg = [] \n",
    "all_models_m = []\n",
    "all_models_mx = [] \n",
    "all_models_mn = []  \n",
    "\n",
    "for distr in [\"Seg\", \"SM\", \"Mix\"]:\n",
    "    \n",
    "    overall_avg_models = []\n",
    "    overall_median_models = []\n",
    "    overall_max_models = []\n",
    "    overall_min_models = []\n",
    "    \n",
    "    for i in range(1):\n",
    "        sim = Stochastic_Schelling(distr=distr, grid_size = (20, 20))\n",
    "        sims_avg_models=[]\n",
    "        sims_median_models=[]\n",
    "        sims_max_models=[]\n",
    "        sims_min_models=[]\n",
    "        \n",
    "        for _ in range(5000):\n",
    "            sim.update_grid()\n",
    "            sims_avg_models.append(sim.get_avg_val(sim.wealth))\n",
    "            sims_median_models.append(sim.get_median(sim.wealth))\n",
    "            sims_max_models.append(sim.get_max_val(sim.wealth))\n",
    "            sims_min_models.append(sim.get_min_val(sim.wealth))\n",
    "            \n",
    "        overall_avg_models.append(sims_avg_models)\n",
    "        overall_median_models.append(sims_median_models)\n",
    "        overall_max_models.append(sims_max_models)\n",
    "        overall_min_models.append(sims_min_models)\n",
    "        \n",
    "    all_models_avg.append(overall_avg_models)\n",
    "    all_models_m.append(overall_median_models)\n",
    "    all_models_mx.append(overall_max_models)\n",
    "    all_models_mn.append(overall_min_models)"
   ]
  },
  {
   "cell_type": "code",
   "execution_count": null,
   "metadata": {},
   "outputs": [],
   "source": [
    "data_avg = []\n",
    "for i in range(5000):\n",
    "    for avg in all_models_avg[0]:\n",
    "        data_avg.append((i, avg[i], \"Seg\"))\n",
    "    \n",
    "    for avg in all_models_avg[1]:\n",
    "        data_avg.append((i, avg[i], \"SM\"))\n",
    "        \n",
    "    for avg in all_models_avg[2]:\n",
    "        data_avg.append((i, avg[i], \"Mix\"))\n",
    "        \n",
    "    \n",
    "da = pd.DataFrame(data_avg, columns = [\"Step\", \"Average\", \"Distribution\"])\n",
    "ax = sns.lineplot(x= \"Step\", y= \"Average\", hue=\"Distribution\", data=da, legend='brief')\n",
    "L=plt.legend()\n",
    "# plt.yscale('log')\n",
    "# plt.axis([420,500, (5*10**3), np.max(da.Average)])\n",
    "plt.show()"
   ]
  },
  {
   "cell_type": "code",
   "execution_count": null,
   "metadata": {},
   "outputs": [],
   "source": [
    "data_mx = []\n",
    "for i in range(5000):\n",
    "    for mx in all_models_mx[0]:\n",
    "        data_mx.append((i, mx[i], \"Seg\"))\n",
    "    \n",
    "    for mx in all_models_mx[1]:\n",
    "        data_mx.append((i, mx[i], \"SM\"))\n",
    "        \n",
    "    for mx in all_models_mx[2]:\n",
    "        data_mx.append((i, mx[i], \"Mix\"))\n",
    "\n",
    "dmx = pd.DataFrame(data_mx, columns = [\"Step\", \"Max Income\", \"Distribution\"])\n",
    "ax = sns.lineplot(x= \"Step\", y= \"Max Income\", hue=\"Distribution\", data=dmx, legend='brief')\n",
    "L=plt.legend()\n",
    "# plt.yscale('log')\n",
    "plt.show()"
   ]
  },
  {
   "cell_type": "code",
   "execution_count": null,
   "metadata": {},
   "outputs": [],
   "source": [
    "data_mn = []\n",
    "for i in range(5000):\n",
    "    for mn in all_models_mn[0]:\n",
    "        data_mn.append((i, mn[i], \"Seg\"))\n",
    "    \n",
    "    for mn in all_models_mn[1]:\n",
    "        data_mn.append((i, mn[i], \"SM\"))\n",
    "        \n",
    "    for mn in all_models_mn[2]:\n",
    "        data_mn.append((i, mn[i], \"Mix\"))\n",
    "\n",
    "dmn = pd.DataFrame(data_mn, columns = [\"Step\", \"Min Income\", \"Distribution\"])\n",
    "ax = sns.lineplot(x= \"Step\", y= \"Min Income\", hue=\"Distribution\", data=dmn, legend='brief')\n",
    "L=plt.legend()\n",
    "# plt.yscale('log')\n",
    "plt.show()"
   ]
  },
  {
   "cell_type": "code",
   "execution_count": null,
   "metadata": {},
   "outputs": [],
   "source": [
    "data_m = []\n",
    "for i in range(5000):\n",
    "    for m in all_models_m[0]:\n",
    "        data_m.append((i, m[i], \"Seg\"))\n",
    "    \n",
    "    for m in all_models_m[1]:\n",
    "        data_m.append((i, m[i], \"SM\"))\n",
    "        \n",
    "    for m in all_models_m[2]:\n",
    "        data_m.append((i, m[i], \"Mix\"))\n",
    "\n",
    "dm = pd.DataFrame(data_m, columns = [\"Step\", \"Median\", \"Distribution\"])\n",
    "ax = sns.lineplot(x= \"Step\", y= \"Median\", hue=\"Distribution\", data=dm, legend='brief')\n",
    "L=plt.legend()\n",
    "# plt.yscale('log')\n",
    "plt.show()"
   ]
  },
  {
   "cell_type": "markdown",
   "metadata": {},
   "source": [
    "# Check Effect of Neighborhood Size"
   ]
  },
  {
   "cell_type": "code",
   "execution_count": null,
   "metadata": {},
   "outputs": [],
   "source": [
    "all_models_avg = [] \n",
    "all_models_m = []\n",
    "all_models_mx = [] \n",
    "all_models_mn = []  \n",
    "\n",
    "for n in [2, 4, 8]:\n",
    "    \n",
    "    overall_avg_models = []\n",
    "    overall_median_models = []\n",
    "    overall_max_models = []\n",
    "    overall_min_models = []\n",
    "    \n",
    "    for i in range(1):\n",
    "        sim = Stochastic_Schelling(n= n)\n",
    "        sims_avg_models=[]\n",
    "        sims_median_models=[]\n",
    "        sims_max_models=[]\n",
    "        sims_min_models=[]\n",
    "        \n",
    "        for _ in range(5000):\n",
    "            sim.update_grid()\n",
    "            sims_avg_models.append(sim.get_avg_val(sim.wealth))\n",
    "            sims_median_models.append(sim.get_median(sim.wealth))\n",
    "            sims_max_models.append(sim.get_max_val(sim.wealth))\n",
    "            sims_min_models.append(sim.get_min_val(sim.wealth))\n",
    "            \n",
    "        overall_avg_models.append(sims_avg_models)\n",
    "        overall_median_models.append(sims_median_models)\n",
    "        overall_max_models.append(sims_max_models)\n",
    "        overall_min_models.append(sims_min_models)\n",
    "        \n",
    "    all_models_avg.append(overall_avg_models)\n",
    "    all_models_m.append(overall_median_models)\n",
    "    all_models_mx.append(overall_max_models)\n",
    "    all_models_mn.append(overall_min_models)"
   ]
  },
  {
   "cell_type": "code",
   "execution_count": null,
   "metadata": {},
   "outputs": [],
   "source": [
    "data_avg = []\n",
    "for i in range(5000):\n",
    "    for avg in all_models_avg[0]:\n",
    "        data_avg.append((i, avg[i], 2))\n",
    "    \n",
    "    for avg in all_models_avg[1]:\n",
    "        data_avg.append((i, avg[i], 4))\n",
    "        \n",
    "    for avg in all_models_avg[2]:\n",
    "        data_avg.append((i, avg[i], 8))\n",
    "        \n",
    "    \n",
    "da = pd.DataFrame(data_avg, columns = [\"Step\", \"Average\", \"Neighborhood Size\"])\n",
    "da[\"Neighborhood Size\"] = [\"$%s$\" % x for x in da[\"Neighborhood Size\"]]\n",
    "\n",
    "ax = sns.lineplot(x= \"Step\", y= \"Average\", hue=\"Neighborhood Size\", data=da, legend='brief')\n",
    "L=plt.legend()\n",
    "plt.show()"
   ]
  },
  {
   "cell_type": "code",
   "execution_count": null,
   "metadata": {},
   "outputs": [],
   "source": [
    "da"
   ]
  },
  {
   "cell_type": "code",
   "execution_count": null,
   "metadata": {},
   "outputs": [],
   "source": [
    "data_mx = []\n",
    "for i in range(5000):\n",
    "    for mx in all_models_mx[0]:\n",
    "        data_mx.append((i, mx[i], 2))\n",
    "    \n",
    "    for mx in all_models_mx[1]:\n",
    "        data_mx.append((i, mx[i], 4))\n",
    "        \n",
    "    for mx in all_models_mx[2]:\n",
    "        data_mx.append((i, mx[i], 8))\n",
    "\n",
    "dmx = pd.DataFrame(data_mx, columns = [\"Step\", \"Max Income\", \"Neighborhood Size\"])\n",
    "\n",
    "dmx[\"Neighborhood Size\"] = [\"$%s$\" % x for x in dmx[\"Neighborhood Size\"]]\n",
    "\n",
    "ax = sns.lineplot(x= \"Step\", y= \"Max Income\", hue=\"Neighborhood Size\", data=dmx, legend='brief')\n",
    "L=plt.legend()\n",
    "plt.show()"
   ]
  },
  {
   "cell_type": "code",
   "execution_count": null,
   "metadata": {},
   "outputs": [],
   "source": [
    "dmx"
   ]
  },
  {
   "cell_type": "code",
   "execution_count": null,
   "metadata": {},
   "outputs": [],
   "source": [
    "data_mn = []\n",
    "for i in range(5000):\n",
    "    for mn in all_models_mn[0]:\n",
    "        data_mn.append((i, mn[i], 2))\n",
    "    \n",
    "    for mn in all_models_mn[1]:\n",
    "        data_mn.append((i, mn[i], 4))\n",
    "        \n",
    "    for mn in all_models_mn[2]:\n",
    "        data_mn.append((i, mn[i], 8))\n",
    "\n",
    "dmn = pd.DataFrame(data_mn, columns = [\"Step\", \"Min Income\", \"Neighborhood Size\"])\n",
    "\n",
    "dmn[\"Neighborhood Size\"] = [\"$%s$\" % x for x in dmn[\"Neighborhood Size\"]]\n",
    "\n",
    "ax = sns.lineplot(x= \"Step\", y= \"Min Income\", hue=\"Neighborhood Size\", data=dmn, legend='brief')\n",
    "L=plt.legend()\n",
    "plt.show()"
   ]
  },
  {
   "cell_type": "code",
   "execution_count": null,
   "metadata": {},
   "outputs": [],
   "source": [
    "dmn"
   ]
  },
  {
   "cell_type": "code",
   "execution_count": null,
   "metadata": {},
   "outputs": [],
   "source": [
    "data_m = []\n",
    "for i in range(5000):\n",
    "    for m in all_models_m[0]:\n",
    "        data_m.append((i, m[i], 2))\n",
    "    \n",
    "    for m in all_models_m[1]:\n",
    "        data_m.append((i, m[i], 4))\n",
    "        \n",
    "    for m in all_models_m[2]:\n",
    "        data_m.append((i, m[i], 8))\n",
    "\n",
    "dm = pd.DataFrame(data_m, columns = [\"Step\", \"Median\", \"Neighborhood Size\"])\n",
    "\n",
    "dm[\"Neighborhood Size\"] = [\"$%s$\" % x for x in dm[\"Neighborhood Size\"]]\n",
    "\n",
    "ax = sns.lineplot(x= \"Step\", y= \"Median\", hue=\"Neighborhood Size\", data=dm, legend='brief')\n",
    "L=plt.legend()\n",
    "plt.show()"
   ]
  },
  {
   "cell_type": "code",
   "execution_count": null,
   "metadata": {},
   "outputs": [],
   "source": [
    "dm"
   ]
  },
  {
   "cell_type": "markdown",
   "metadata": {},
   "source": [
    "## 4x4"
   ]
  },
  {
   "cell_type": "code",
   "execution_count": null,
   "metadata": {},
   "outputs": [],
   "source": [
    "all_models_avg = [] \n",
    "all_models_m = []\n",
    "all_models_mx = [] \n",
    "all_models_mn = []  \n",
    "\n",
    "for n in [1, 2]:\n",
    "    \n",
    "    overall_avg_models = []\n",
    "    overall_median_models = []\n",
    "    overall_max_models = []\n",
    "    overall_min_models = []\n",
    "    \n",
    "    for i in range(1):\n",
    "        sim = Stochastic_Schelling(n= n)\n",
    "        sims_avg_models=[]\n",
    "        sims_median_models=[]\n",
    "        sims_max_models=[]\n",
    "        sims_min_models=[]\n",
    "        \n",
    "        for _ in range(5000):\n",
    "            sim.update_grid()\n",
    "            sims_avg_models.append(sim.get_avg_val(sim.wealth))\n",
    "            sims_median_models.append(sim.get_median(sim.wealth))\n",
    "            sims_max_models.append(sim.get_max_val(sim.wealth))\n",
    "            sims_min_models.append(sim.get_min_val(sim.wealth))\n",
    "            \n",
    "        overall_avg_models.append(sims_avg_models)\n",
    "        overall_median_models.append(sims_median_models)\n",
    "        overall_max_models.append(sims_max_models)\n",
    "        overall_min_models.append(sims_min_models)\n",
    "        \n",
    "    all_models_avg.append(overall_avg_models)\n",
    "    all_models_m.append(overall_median_models)\n",
    "    all_models_mx.append(overall_max_models)\n",
    "    all_models_mn.append(overall_min_models)"
   ]
  },
  {
   "cell_type": "code",
   "execution_count": null,
   "metadata": {},
   "outputs": [],
   "source": [
    "data_avg = []\n",
    "for i in range(5000):\n",
    "    for avg in all_models_avg[0]:\n",
    "        data_avg.append((i, avg[i], 1))\n",
    "    \n",
    "    for avg in all_models_avg[1]:\n",
    "        data_avg.append((i, avg[i], 2))\n",
    "    \n",
    "da = pd.DataFrame(data_avg, columns = [\"Step\", \"Average\", \"Neighborhood Size\"])\n",
    "da[\"Neighborhood Size\"] = [\"$%s$\" % x for x in da[\"Neighborhood Size\"]]\n",
    "\n",
    "ax = sns.lineplot(x= \"Step\", y= \"Average\", hue=\"Neighborhood Size\", data=da, legend='brief')\n",
    "L=plt.legend()\n",
    "plt.show()"
   ]
  },
  {
   "cell_type": "code",
   "execution_count": null,
   "metadata": {},
   "outputs": [],
   "source": [
    "da"
   ]
  },
  {
   "cell_type": "code",
   "execution_count": null,
   "metadata": {},
   "outputs": [],
   "source": [
    "data_mx = []\n",
    "for i in range(5000):\n",
    "    for mx in all_models_mx[0]:\n",
    "        data_mx.append((i, mx[i], 1))\n",
    "    \n",
    "    for mx in all_models_mx[1]:\n",
    "        data_mx.append((i, mx[i], 2))\n",
    "\n",
    "dmx = pd.DataFrame(data_mx, columns = [\"Step\", \"Max Income\", \"Neighborhood Size\"])\n",
    "\n",
    "dmx[\"Neighborhood Size\"] = [\"$%s$\" % x for x in dmx[\"Neighborhood Size\"]]\n",
    "\n",
    "ax = sns.lineplot(x= \"Step\", y= \"Max Income\", hue=\"Neighborhood Size\", data=dmx, legend='brief')\n",
    "L=plt.legend()\n",
    "plt.show()"
   ]
  },
  {
   "cell_type": "code",
   "execution_count": null,
   "metadata": {},
   "outputs": [],
   "source": [
    "grid_size=(5, 5)\n",
    "growth_rate = np.ones(grid_size)\n",
    "wealth = np.ones(grid_size)*5\n",
    "\n",
    "wealth[:, :int(grid_size[1]/2)]= 1\n",
    "\n",
    "C=10**-5\n",
    "growth_rate = C*wealth "
   ]
  },
  {
   "cell_type": "code",
   "execution_count": null,
   "metadata": {},
   "outputs": [],
   "source": [
    "growth_rate"
   ]
  },
  {
   "cell_type": "code",
   "execution_count": null,
   "metadata": {},
   "outputs": [],
   "source": []
  }
 ],
 "metadata": {
  "kernelspec": {
   "display_name": "Python 3",
   "language": "python",
   "name": "python3"
  },
  "language_info": {
   "codemirror_mode": {
    "name": "ipython",
    "version": 3
   },
   "file_extension": ".py",
   "mimetype": "text/x-python",
   "name": "python",
   "nbconvert_exporter": "python",
   "pygments_lexer": "ipython3",
   "version": "3.6.5"
  }
 },
 "nbformat": 4,
 "nbformat_minor": 2
}
