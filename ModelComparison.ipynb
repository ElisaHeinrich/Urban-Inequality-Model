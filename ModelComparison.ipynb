{
 "cells": [
  {
   "cell_type": "markdown",
   "metadata": {},
   "source": [
    "# Compare different model outputs against empirical metrics of US MSA income distributions\n",
    "\n",
    "\n",
    "Descriptive Characteristics of Empirical Distributions, against which to compare models:\n",
    "- general shape\n",
    "- decile scaling\n",
    "- growth of tail in relative distributions (better described by next one...)\n",
    "- moments vs. population (especially 3rd)\n",
    "    - NOTE: What about 1st moment? effectively, what about actual scaling behavior across size that won't show up?\n",
    "\n"
   ]
  },
  {
   "cell_type": "code",
   "execution_count": 1,
   "metadata": {},
   "outputs": [],
   "source": [
    "import pandas as pd\n",
    "import numpy as np\n",
    "import matplotlib.pyplot as plt\n",
    "#import sklearn.metrics as sk\n",
    "import scipy.stats\n",
    "from scipy.optimize import curve_fit\n",
    "#from RegscorePy import *\n",
    "from IPython.core.debugger import set_trace\n",
    "import seaborn as sns\n",
    "from matplotlib.animation import FuncAnimation\n",
    "from IPython.display import HTML"
   ]
  },
  {
   "cell_type": "markdown",
   "metadata": {},
   "source": [
    "# Input from Data & Model Output"
   ]
  },
  {
   "cell_type": "markdown",
   "metadata": {},
   "source": []
  },
  {
   "cell_type": "markdown",
   "metadata": {},
   "source": [
    "# Decile Scaling"
   ]
  },
  {
   "cell_type": "code",
   "execution_count": null,
   "metadata": {},
   "outputs": [],
   "source": [
    "# maps int (1-10) to pair (list of income_pp,list of city size)\n",
    "deciles = {}\n",
    "for i in range(1,11):\n",
    "    deciles[i] = ([],[])\n",
    "\n",
    "for msa in income_lists:\n",
    "    if str(msa) in metro_ids:\n",
    "        income_list = income_lists[msa]\n",
    "        pop_list = fullpops[msa]\n",
    "        city_pop = city_pops[msa]\n",
    "\n",
    "        #split into deciles\n",
    "        sum_pop = sum(pop_list)\n",
    "        pop_cutoffs = [sum_pop*float(i)/10. for i in range(1,11)]\n",
    "        cumulative_pop = 0.\n",
    "        current_decile = 1\n",
    "        # summed population and income for current decile\n",
    "        decile_pop = 0.\n",
    "        decile_inc = 0.\n",
    "        # sort by income\n",
    "        income_list,pop_list = (list(t) for t in zip(*sorted(zip(income_list, pop_list))))\n",
    "        for ctpop, ctinc in zip(pop_list,income_list):\n",
    "            cumulative_pop += ctpop\n",
    "            decile_pop += ctpop\n",
    "            decile_inc += ctinc*ctpop\n",
    "            if cumulative_pop >= pop_cutoffs[(current_decile - 1)]:\n",
    "    #             if cumulative_pop == pop_cutoffs[9]:\n",
    "    #                 print(\"finish reached\")\n",
    "                current_decile += 1\n",
    "                #store in deciles\n",
    "                correction = (sum_pop/10.)/(decile_pop)\n",
    "                decile_inc *= correction \n",
    "                #print(correction)\n",
    "                #print(\"Decile:\",decile_pop,\"full/10:\",(sum_pop/10.),\"with correction\",decile_pop*correction)\n",
    "                \n",
    "                deciles[(current_decile-1)][0].append(decile_inc)\n",
    "                deciles[(current_decile-1)][1].append(city_pop)\n",
    "                #reset\n",
    "                decile_pop = 0\n",
    "                decile_inc = 0\n",
    "\n",
    "        sum_inc = np.sum(np.array(income_list)*np.array(pop))\n",
    "\n",
    "        \n",
    "def standardModelFunc(x,y0,delta):\n",
    "    return y0*(x**(1+delta))\n",
    "def standardLogResidual(params, x, true_data):\n",
    "    model = standardModelFunc(x,params['y0'],params['delta'])\n",
    "    return np.log(true_data)-np.log(model)\n",
    "        \n",
    "def standardLogMod(x,logy0,delta):\n",
    "    return logy0+x*(1+delta)\n",
    "    \n",
    "plt.figure()\n",
    "ax = plt.gca()\n",
    "decileFits = {}\n",
    "decileModels = {}\n",
    "decileParams = {}\n",
    "for i in range(1,11):\n",
    "    x= list(deciles[i][1])\n",
    "    y = list(deciles[i][0])\n",
    "    #print(\"decile:\",i,\"x,y = \",x,y)\n",
    "    plt.scatter(x,y,s=2)\n",
    "    decileParams[i] = lmfit.Parameters()\n",
    "    decileParams[i].add_many(('y0',8*list(y)[0]/list(x)[0],True,0,1),('delta',0.,True))\n",
    "    \n",
    "\n",
    "    decileModels[i] = lmfit.Model(standardModelFunc)\n",
    "    decileFits[i] = lmfit.minimize(standardLogResidual, decileParams[i], args=(x, y))\n",
    "    decileParams[i] = decileFits[i].params\n",
    "    \n",
    "    #using curve_fit\n",
    "    logx = np.log(x)\n",
    "    logy = np.log(y)\n",
    "    coeff, var = curve_fit(standardLogMod, logx, logy)\n",
    "    \n",
    "    lbl = \"decile \"+str(i)+\", Beta = \"+str(round((1.+coeff[1]),3))\n",
    "    print(coeff)\n",
    "    fity = np.exp(np.array(coeff[0],dtype=np.float128))*x**(1+coeff[1])\n",
    "    #print(x,fity)\n",
    "    ax.plot(x, fity,'--',label=lbl,markersize=1)\n",
    "    #ax.plot(x,decileModels[i].eval(decileParams[i],x=x),'--',label=lbl)\n",
    "    \n",
    "\n",
    "ax.set_yscale(\"log\")\n",
    "ax.set_xscale(\"log\")\n",
    "plt.legend()\n"
   ]
  },
  {
   "cell_type": "code",
   "execution_count": null,
   "metadata": {},
   "outputs": [],
   "source": [
    "#"
   ]
  }
 ],
 "metadata": {
  "kernelspec": {
   "display_name": "Python 3",
   "language": "python",
   "name": "python3"
  },
  "language_info": {
   "codemirror_mode": {
    "name": "ipython",
    "version": 3
   },
   "file_extension": ".py",
   "mimetype": "text/x-python",
   "name": "python",
   "nbconvert_exporter": "python",
   "pygments_lexer": "ipython3",
   "version": "3.6.9"
  }
 },
 "nbformat": 4,
 "nbformat_minor": 2
}
