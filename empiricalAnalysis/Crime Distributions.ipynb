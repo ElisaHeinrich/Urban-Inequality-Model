{
 "cells": [
  {
   "cell_type": "code",
   "execution_count": 6,
   "metadata": {},
   "outputs": [],
   "source": [
    "import pandas as pd\n",
    "import numpy as np\n",
    "\n",
    "import matplotlib.pyplot as plt"
   ]
  },
  {
   "cell_type": "code",
   "execution_count": 7,
   "metadata": {},
   "outputs": [
    {
     "name": "stdout",
     "output_type": "stream",
     "text": [
      "domvio10\n"
     ]
    },
    {
     "data": {
      "image/png": "[encoded data removed]",
      "text/plain": [
       "<Figure size 432x288 with 1 Axes>"
      ]
     },
     "metadata": {
      "needs_background": "light"
     },
     "output_type": "display_data"
    },
    {
     "name": "stdout",
     "output_type": "stream",
     "text": [
      "crime10\n"
     ]
    },
    {
     "data": {
      "image/png": "[encoded data removed]",
      "text/plain": [
       "<Figure size 432x288 with 1 Axes>"
      ]
     },
     "metadata": {
      "needs_background": "light"
     },
     "output_type": "display_data"
    },
    {
     "name": "stdout",
     "output_type": "stream",
     "text": [
      "viol10\n"
     ]
    },
    {
     "data": {
      "image/png": "[encoded data removed]",
      "text/plain": [
       "<Figure size 432x288 with 1 Axes>"
      ]
     },
     "metadata": {
      "needs_background": "light"
     },
     "output_type": "display_data"
    }
   ],
   "source": [
    "# Crime rates in 56 sub-areas of Baltimore, MD\n",
    "dfile = pd.read_csv(\"Crime___Safety_2010.csv\")\n",
    "for crime in [\"domvio10\",\"crime10\",\"viol10\"]:\n",
    "    print(crime)\n",
    "    plt.cla()\n",
    "#     plt.figure()\n",
    "    plt.hist(dfile[crime],bins=40)\n",
    "    plt.show()\n",
    "    plt.close()"
   ]
  },
  {
   "cell_type": "code",
   "execution_count": 4,
   "metadata": {},
   "outputs": [],
   "source": [
    "import arcgis\n"
   ]
  },
  {
   "cell_type": "code",
   "execution_count": 7,
   "metadata": {},
   "outputs": [
    {
     "name": "stderr",
     "output_type": "stream",
     "text": [
      "/home/jake/.local/lib/python3.6/site-packages/IPython/core/interactiveshell.py:3063: DtypeWarning: Columns (10) have mixed types.Specify dtype option on import or set low_memory=False.\n",
      "  interactivity=interactivity, compiler=compiler, result=result)\n"
     ]
    }
   ],
   "source": [
    "calls_raw = pd.read_csv(\"Police_Calls_for_Service.csv\")"
   ]
  },
  {
   "cell_type": "code",
   "execution_count": 43,
   "metadata": {},
   "outputs": [
    {
     "data": {
      "text/plain": [
       "<matplotlib.collections.PathCollection at 0x7fbdcca03358>"
      ]
     },
     "execution_count": 43,
     "metadata": {},
     "output_type": "execute_result"
    },
    {
     "data": {
      "image/png": "[encoded data removed]",
      "text/plain": [
       "<Figure size 432x288 with 1 Axes>"
      ]
     },
     "metadata": {
      "needs_background": "light"
     },
     "output_type": "display_data"
    }
   ],
   "source": [
    "import math\n",
    "loc_x,loc_y = np.array(calls_raw['X'].dropna()),np.array(calls_raw['Y'].dropna())\n",
    "loc_x += - np.min(loc_x)\n",
    "loc_x = loc_x/np.max(loc_x)\n",
    "loc_y += - np.min(loc_y)\n",
    "loc_y = loc_y/np.max(loc_y)\n",
    "\n",
    "grid_width = 100\n",
    "\n",
    "dx,dy = 1.0/float(grid_width), 1.0/float(grid_width)\n",
    "loc_x = loc_x[loc_x>0.4]\n",
    "loc_y = loc_y[loc_y>0.4]\n",
    "\n",
    "plt.scatter(loc_x,loc_y,s=.00001)\n",
    "\n"
   ]
  },
  {
   "cell_type": "code",
   "execution_count": 18,
   "metadata": {},
   "outputs": [
    {
     "name": "stdout",
     "output_type": "stream",
     "text": [
      "0         -111.922992\n",
      "1         -111.962648\n",
      "2         -111.928567\n",
      "3         -111.922664\n",
      "4         -111.926070\n",
      "              ...    \n",
      "1068995   -111.909167\n",
      "1068996   -111.929280\n",
      "1068997   -111.978254\n",
      "1068998   -111.956225\n",
      "1068999   -111.904587\n",
      "Name: X, Length: 1069000, dtype: float64\n",
      "0         -0.383030\n",
      "1         -0.422686\n",
      "2         -0.388605\n",
      "3         -0.382702\n",
      "4         -0.386108\n",
      "             ...   \n",
      "1068995   -0.369206\n",
      "1068996   -0.389318\n",
      "1068997   -0.438293\n",
      "1068998   -0.416263\n",
      "1068999   -0.364625\n",
      "Name: X, Length: 1069000, dtype: float64\n",
      "0         -inf\n",
      "1         -inf\n",
      "2         -inf\n",
      "3         -inf\n",
      "4         -inf\n",
      "          ... \n",
      "1068995   -inf\n",
      "1068996   -inf\n",
      "1068997   -inf\n",
      "1068998   -inf\n",
      "1068999   -inf\n",
      "Name: X, Length: 1069000, dtype: float64\n"
     ]
    }
   ],
   "source": []
  },
  {
   "cell_type": "code",
   "execution_count": null,
   "metadata": {},
   "outputs": [],
   "source": []
  }
 ],
 "metadata": {
  "kernelspec": {
   "display_name": "Python 3",
   "language": "python",
   "name": "python3"
  },
  "language_info": {
   "codemirror_mode": {
    "name": "ipython",
    "version": 3
   },
   "file_extension": ".py",
   "mimetype": "text/x-python",
   "name": "python",
   "nbconvert_exporter": "python",
   "pygments_lexer": "ipython3",
   "version": "3.6.9"
  }
 },
 "nbformat": 4,
 "nbformat_minor": 2
}
